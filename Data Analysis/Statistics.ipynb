{
  "nbformat": 4,
  "nbformat_minor": 0,
  "metadata": {
    "colab": {
      "name": "Statistics.ipynb",
      "provenance": [],
      "include_colab_link": true
    },
    "kernelspec": {
      "name": "python3",
      "display_name": "Python 3"
    }
  },
  "cells": [
    {
      "cell_type": "markdown",
      "metadata": {
        "id": "view-in-github",
        "colab_type": "text"
      },
      "source": [
        "<a href=\"https://colab.research.google.com/github/TeAmP0is0N/Fake-News-Hindi/blob/master/Data%20Analysis/Statistics.ipynb\" target=\"_parent\"><img src=\"https://colab.research.google.com/assets/colab-badge.svg\" alt=\"Open In Colab\"/></a>"
      ]
    },
    {
      "cell_type": "code",
      "metadata": {
        "id": "ju9Fr0TFLw5y",
        "colab_type": "code",
        "colab": {
          "base_uri": "https://localhost:8080/",
          "height": 34
        },
        "outputId": "8d98030b-d6c4-457c-9a9e-157094fdc704"
      },
      "source": [
        "from google.colab import drive\n",
        "drive.mount('/gdrive')"
      ],
      "execution_count": null,
      "outputs": [
        {
          "output_type": "stream",
          "text": [
            "Mounted at /gdrive\n"
          ],
          "name": "stdout"
        }
      ]
    },
    {
      "cell_type": "code",
      "metadata": {
        "id": "SGbDxjpLNr_I",
        "colab_type": "code",
        "colab": {}
      },
      "source": [
        "import sys\n",
        "sys.path.append('/gdrive/My Drive/3rd Sem/MTech CSE 3/Thesis/Code')"
      ],
      "execution_count": null,
      "outputs": []
    },
    {
      "cell_type": "code",
      "metadata": {
        "id": "pLhtv8OMPOXg",
        "colab_type": "code",
        "colab": {}
      },
      "source": [
        "import private\n",
        "import re\n",
        "import tweepy\n",
        "import difflib\n",
        "import pandas as pd\n",
        "import numpy as np\n",
        "import pickle\n",
        "import time\n",
        "import copy\n",
        "import matplotlib.pyplot as plt\n",
        "from datetime import date\n",
        "from collections import Counter "
      ],
      "execution_count": null,
      "outputs": []
    },
    {
      "cell_type": "code",
      "metadata": {
        "id": "sWsqkB1wNKRD",
        "colab_type": "code",
        "colab": {}
      },
      "source": [
        "auth = tweepy.OAuthHandler(private.CONSUMER_KEY, private.CONSUMER_SECRET)\n",
        "auth.set_access_token(private.OAUTH_TOKEN, private.OAUTH_TOKEN_SECRET)\n",
        "api = tweepy.API(auth)"
      ],
      "execution_count": null,
      "outputs": []
    },
    {
      "cell_type": "code",
      "metadata": {
        "id": "tbV8OCI-GnT7",
        "colab_type": "code",
        "colab": {}
      },
      "source": [
        "pd.options.display.max_colwidth = 0"
      ],
      "execution_count": null,
      "outputs": []
    },
    {
      "cell_type": "markdown",
      "metadata": {
        "id": "7hMz59FdFt1n",
        "colab_type": "text"
      },
      "source": [
        "### Sorting the Labels Set"
      ]
    },
    {
      "cell_type": "code",
      "metadata": {
        "id": "O4KYyF7rzCzG",
        "colab_type": "code",
        "colab": {
          "base_uri": "https://localhost:8080/",
          "height": 553
        },
        "outputId": "5da39980-35d4-4544-aaee-3dfce51e6b3f"
      },
      "source": [
        "df = pd.read_csv(\"/gdrive/My Drive/3rd Sem/MTech CSE 3/Thesis/IIITD Fake News Project/Data Set/Constraint 21/Hostility Approach/Complete Dataset/Complete Dataset.csv\")\n",
        "df"
      ],
      "execution_count": null,
      "outputs": [
        {
          "output_type": "execute_result",
          "data": {
            "text/html": [
              "<div>\n",
              "<style scoped>\n",
              "    .dataframe tbody tr th:only-of-type {\n",
              "        vertical-align: middle;\n",
              "    }\n",
              "\n",
              "    .dataframe tbody tr th {\n",
              "        vertical-align: top;\n",
              "    }\n",
              "\n",
              "    .dataframe thead th {\n",
              "        text-align: right;\n",
              "    }\n",
              "</style>\n",
              "<table border=\"1\" class=\"dataframe\">\n",
              "  <thead>\n",
              "    <tr style=\"text-align: right;\">\n",
              "      <th></th>\n",
              "      <th>Unique ID</th>\n",
              "      <th>Post</th>\n",
              "      <th>Labels Set</th>\n",
              "    </tr>\n",
              "  </thead>\n",
              "  <tbody>\n",
              "    <tr>\n",
              "      <th>0</th>\n",
              "      <td>1</td>\n",
              "      <td>डिजिटल दिखाकर भारत की सारी सम्पत्ति बेच दिया अब स्कूल बंध करके भारत के फिर से गुलाम बनाने का प्लान तैयार है। Corona दिखाकर शिक्षा छीन लिया अब स्कूल बंध होगी। ईवीएम की नाजायज सरकार ने भारत को भिखारी ओर लाचार बनाया है</td>\n",
              "      <td>Fake, Defamation</td>\n",
              "    </tr>\n",
              "    <tr>\n",
              "      <th>1</th>\n",
              "      <td>2</td>\n",
              "      <td>लोक डाउन Corona महामारी में भी मा.वामन मेश्राम साहेब नहीं रुके लोगो के अधिकार के लिए लगातार आंदोलन शुरू रखा है। भारत की जनता जाग चुकी है\\nअपना अधिकार मांग रही है। लेकिन आरएसएस की मीडिया लगातार राम मंदिर के सिवा कुछ नहीं दिखा रही है\\n#राममंदिर_का_पोस्टमार्टम</td>\n",
              "      <td>Defamation, Hate</td>\n",
              "    </tr>\n",
              "    <tr>\n",
              "      <th>2</th>\n",
              "      <td>3</td>\n",
              "      <td>Corona अपनी फॉर्म है रोज 1000 लोगो की मौत हो रही है रोज 58 हजार से 68 हजार तक मरीज बढ़ रहे है राज्यो मै अनगिनत क्राइम के मामले बढ़ रहे है सरकार ना तो Corona रोख पाई ना ही बढ़ते हुए अपराधों को रोक  पा रही</td>\n",
              "      <td>Defamation</td>\n",
              "    </tr>\n",
              "    <tr>\n",
              "      <th>3</th>\n",
              "      <td>4</td>\n",
              "      <td>पैरों में चप्पल पहनकर कोई भूमि पूजन होता है क्या?\\n\\nये किस मानसिकता के भक्त है मित्रो 😮😮</td>\n",
              "      <td>Defamation, Offensive, Fake</td>\n",
              "    </tr>\n",
              "    <tr>\n",
              "      <th>4</th>\n",
              "      <td>5</td>\n",
              "      <td>चप्पल पहनकर भूमि पूजन,\\n\\nआखिर कितनी धज्जियां उड़ाओगे हिंदू धर्म की !</td>\n",
              "      <td>Offensive, Defamation, Fake</td>\n",
              "    </tr>\n",
              "    <tr>\n",
              "      <th>...</th>\n",
              "      <td>...</td>\n",
              "      <td>...</td>\n",
              "      <td>...</td>\n",
              "    </tr>\n",
              "    <tr>\n",
              "      <th>8191</th>\n",
              "      <td>8192</td>\n",
              "      <td>उन्होंने कहा कि जनप्रतिनिधियों, सामाजिक संगठनों एवं आमजन के माध्यम से, लोगों को जागरूक किया जाए कि संक्रमण से बचाव के लिए दो गज की दूरी और मास्क पहनना जरूरी है: ACS, गृह व सूचना, श्री @AwasthiAwanishK जी</td>\n",
              "      <td>Non-Hostile</td>\n",
              "    </tr>\n",
              "    <tr>\n",
              "      <th>8192</th>\n",
              "      <td>8193</td>\n",
              "      <td>गोरखपुर में नवनिर्मित 500 शैय्या युक्त बाल चिकित्सा संस्थान में 300 शैय्या कोविड-19 चिकित्सालय का शुभारंभ करते मुख्यमंत्री श्री @myogiadityanath जी। https://t.co/QS5c4Jj4ie</td>\n",
              "      <td>Non-Hostile</td>\n",
              "    </tr>\n",
              "    <tr>\n",
              "      <th>8193</th>\n",
              "      <td>8194</td>\n",
              "      <td>सामाजिक एवं आर्थिक विकास को समर्पित उत्तर प्रदेश का विश्वस्तरीय इंफ्रास्ट्रक्चर, प्रदेश को उन्नति के पथ पर अग्रसर करने में सहायक है। https://t.co/QS4AsyLVqL</td>\n",
              "      <td>Non-Hostile</td>\n",
              "    </tr>\n",
              "    <tr>\n",
              "      <th>8194</th>\n",
              "      <td>8195</td>\n",
              "      <td>#IPL2020 : दिल्‍ली कैपिटल्‍स की मुसीबतें बढ़ी, तीसरे टेस्‍ट में कोविड-19 पॉजिटिव मिला एक सदस्‍य\\n\\nhttps://t.co/iaggJeg7BM</td>\n",
              "      <td>Non-Hostile</td>\n",
              "    </tr>\n",
              "    <tr>\n",
              "      <th>8195</th>\n",
              "      <td>8196</td>\n",
              "      <td>जम्मू-कश्मीर व लद्दाख से अनुच्छेद 370 व 35ए को हटाकर वहां के नागरिकों को एकसमान अधिकार दिए जिससे वहाँ के नागरिक मुख्यधारा से जुड़कर विकास पथ पर आगे बढ़कर देश की प्रगति में अपना अमूल्य योगदान दे रहे हैं और लोगों को रोजगार एवं शिक्षा के समान अवसर मिल रहे हैं। #OneYearOfNoArticle370 https://t.co/d8eQfhWbzB</td>\n",
              "      <td>Non-Hostile</td>\n",
              "    </tr>\n",
              "  </tbody>\n",
              "</table>\n",
              "<p>8196 rows × 3 columns</p>\n",
              "</div>"
            ],
            "text/plain": [
              "      Unique ID  ...                   Labels Set\n",
              "0     1          ...  Fake, Defamation           \n",
              "1     2          ...  Defamation, Hate           \n",
              "2     3          ...  Defamation                 \n",
              "3     4          ...  Defamation, Offensive, Fake\n",
              "4     5          ...  Offensive, Defamation, Fake\n",
              "...  ..          ...                          ...\n",
              "8191  8192       ...  Non-Hostile                \n",
              "8192  8193       ...  Non-Hostile                \n",
              "8193  8194       ...  Non-Hostile                \n",
              "8194  8195       ...  Non-Hostile                \n",
              "8195  8196       ...  Non-Hostile                \n",
              "\n",
              "[8196 rows x 3 columns]"
            ]
          },
          "metadata": {
            "tags": []
          },
          "execution_count": 245
        }
      ]
    },
    {
      "cell_type": "code",
      "metadata": {
        "id": "xNsl0RTq34FA",
        "colab_type": "code",
        "colab": {}
      },
      "source": [
        "def preprocess_label(text):\n",
        "    text = text.lower()\n",
        "    text = text.replace(\" \",\"\")\n",
        "    text = text.split(',')\n",
        "    if(len(text)==1):\n",
        "        text = ','.join(text)\n",
        "        #print(\"Not Split: \",text)\n",
        "        return text\n",
        "\n",
        "\n",
        "    ### break is used to handle labels like: {fake, defamation, fake}\n",
        "    temp = []\n",
        "\n",
        "    for item in text:\n",
        "        if item=='defamation':\n",
        "            temp.append(\"defamation\")\n",
        "            break\n",
        "        \n",
        "    for item in text:\n",
        "        if item=='fake':\n",
        "            temp.append(\"fake\")\n",
        "            break\n",
        "\n",
        "    for item in text:\n",
        "        if item=='hate':\n",
        "            temp.append(\"hate\")\n",
        "            break\n",
        "\n",
        "    for item in text:\n",
        "        if item=='offensive':\n",
        "            temp.append(\"offensive\")\n",
        "            break\n",
        "\n",
        "    temp = ','.join(temp)\n",
        "    #print(\"Split: \",temp)\n",
        "    return temp\n",
        "    "
      ],
      "execution_count": null,
      "outputs": []
    },
    {
      "cell_type": "code",
      "metadata": {
        "id": "iiQyJKrAm3KJ",
        "colab_type": "code",
        "colab": {}
      },
      "source": [
        "def update_counts(text,counts):\n",
        "    text = text.split(\",\")\n",
        "\n",
        "    for item in text:\n",
        "\n",
        "        if(item == \"defamation\"):\n",
        "            counts[0] += 1\n",
        "        elif(item == 'fake'):\n",
        "            counts[1] += 1\n",
        "        elif(item == 'hate'):\n",
        "            counts[2] += 1\n",
        "        elif(item == 'miscellaneous'):\n",
        "            counts[3] += 1\n",
        "        elif(item == 'non-hostile'):\n",
        "            counts[4] += 1\n",
        "        else:\n",
        "            counts[5] += 1\n",
        "\n",
        "    return counts"
      ],
      "execution_count": null,
      "outputs": []
    },
    {
      "cell_type": "code",
      "metadata": {
        "id": "Nwzk1MrWAhDh",
        "colab_type": "code",
        "colab": {
          "base_uri": "https://localhost:8080/",
          "height": 470
        },
        "outputId": "1e38ad86-90a2-4a20-9008-ec70e2b5c4c1"
      },
      "source": [
        "### A list to store all counts of each class = [ D, F, H, M, N, O]\n",
        "counts = [0,0,0,0,0,0]\n",
        "\n",
        "for i in range(len(df['Labels Set'])):\n",
        "    df.at[i,'Labels Set'] = preprocess_label(df['Labels Set'][i])\n",
        "    counts = update_counts(df['Labels Set'][i],counts)\n",
        "\n",
        "df"
      ],
      "execution_count": null,
      "outputs": [
        {
          "output_type": "execute_result",
          "data": {
            "text/html": [
              "<div>\n",
              "<style scoped>\n",
              "    .dataframe tbody tr th:only-of-type {\n",
              "        vertical-align: middle;\n",
              "    }\n",
              "\n",
              "    .dataframe tbody tr th {\n",
              "        vertical-align: top;\n",
              "    }\n",
              "\n",
              "    .dataframe thead th {\n",
              "        text-align: right;\n",
              "    }\n",
              "</style>\n",
              "<table border=\"1\" class=\"dataframe\">\n",
              "  <thead>\n",
              "    <tr style=\"text-align: right;\">\n",
              "      <th></th>\n",
              "      <th>Unique ID</th>\n",
              "      <th>Post</th>\n",
              "      <th>Labels Set</th>\n",
              "    </tr>\n",
              "  </thead>\n",
              "  <tbody>\n",
              "    <tr>\n",
              "      <th>0</th>\n",
              "      <td>1</td>\n",
              "      <td>डिजिटल दिखाकर भारत की सारी सम्पत्ति बेच दिया अब स्कूल बंध करके भारत के फिर से गुलाम बनाने का प्लान तैयार है। Corona दिखाकर शिक्षा छीन लिया अब स्कूल बंध होगी। ईवीएम की नाजायज सरकार ने भारत को भिखारी ओर लाचार बनाया है</td>\n",
              "      <td>defamation,fake</td>\n",
              "    </tr>\n",
              "    <tr>\n",
              "      <th>1</th>\n",
              "      <td>2</td>\n",
              "      <td>लोक डाउन Corona महामारी में भी मा.वामन मेश्राम साहेब नहीं रुके लोगो के अधिकार के लिए लगातार आंदोलन शुरू रखा है। भारत की जनता जाग चुकी है\\nअपना अधिकार मांग रही है। लेकिन आरएसएस की मीडिया लगातार राम मंदिर के सिवा कुछ नहीं दिखा रही है\\n#राममंदिर_का_पोस्टमार्टम</td>\n",
              "      <td>defamation,hate</td>\n",
              "    </tr>\n",
              "    <tr>\n",
              "      <th>2</th>\n",
              "      <td>3</td>\n",
              "      <td>Corona अपनी फॉर्म है रोज 1000 लोगो की मौत हो रही है रोज 58 हजार से 68 हजार तक मरीज बढ़ रहे है राज्यो मै अनगिनत क्राइम के मामले बढ़ रहे है सरकार ना तो Corona रोख पाई ना ही बढ़ते हुए अपराधों को रोक  पा रही</td>\n",
              "      <td>defamation</td>\n",
              "    </tr>\n",
              "    <tr>\n",
              "      <th>3</th>\n",
              "      <td>4</td>\n",
              "      <td>पैरों में चप्पल पहनकर कोई भूमि पूजन होता है क्या?\\n\\nये किस मानसिकता के भक्त है मित्रो 😮😮</td>\n",
              "      <td>defamation,fake,offensive</td>\n",
              "    </tr>\n",
              "    <tr>\n",
              "      <th>4</th>\n",
              "      <td>5</td>\n",
              "      <td>चप्पल पहनकर भूमि पूजन,\\n\\nआखिर कितनी धज्जियां उड़ाओगे हिंदू धर्म की !</td>\n",
              "      <td>defamation,fake,offensive</td>\n",
              "    </tr>\n",
              "    <tr>\n",
              "      <th>...</th>\n",
              "      <td>...</td>\n",
              "      <td>...</td>\n",
              "      <td>...</td>\n",
              "    </tr>\n",
              "    <tr>\n",
              "      <th>8191</th>\n",
              "      <td>8192</td>\n",
              "      <td>उन्होंने कहा कि जनप्रतिनिधियों, सामाजिक संगठनों एवं आमजन के माध्यम से, लोगों को जागरूक किया जाए कि संक्रमण से बचाव के लिए दो गज की दूरी और मास्क पहनना जरूरी है: ACS, गृह व सूचना, श्री @AwasthiAwanishK जी</td>\n",
              "      <td>non-hostile</td>\n",
              "    </tr>\n",
              "    <tr>\n",
              "      <th>8192</th>\n",
              "      <td>8193</td>\n",
              "      <td>गोरखपुर में नवनिर्मित 500 शैय्या युक्त बाल चिकित्सा संस्थान में 300 शैय्या कोविड-19 चिकित्सालय का शुभारंभ करते मुख्यमंत्री श्री @myogiadityanath जी। https://t.co/QS5c4Jj4ie</td>\n",
              "      <td>non-hostile</td>\n",
              "    </tr>\n",
              "    <tr>\n",
              "      <th>8193</th>\n",
              "      <td>8194</td>\n",
              "      <td>सामाजिक एवं आर्थिक विकास को समर्पित उत्तर प्रदेश का विश्वस्तरीय इंफ्रास्ट्रक्चर, प्रदेश को उन्नति के पथ पर अग्रसर करने में सहायक है। https://t.co/QS4AsyLVqL</td>\n",
              "      <td>non-hostile</td>\n",
              "    </tr>\n",
              "    <tr>\n",
              "      <th>8194</th>\n",
              "      <td>8195</td>\n",
              "      <td>#IPL2020 : दिल्‍ली कैपिटल्‍स की मुसीबतें बढ़ी, तीसरे टेस्‍ट में कोविड-19 पॉजिटिव मिला एक सदस्‍य\\n\\nhttps://t.co/iaggJeg7BM</td>\n",
              "      <td>non-hostile</td>\n",
              "    </tr>\n",
              "    <tr>\n",
              "      <th>8195</th>\n",
              "      <td>8196</td>\n",
              "      <td>जम्मू-कश्मीर व लद्दाख से अनुच्छेद 370 व 35ए को हटाकर वहां के नागरिकों को एकसमान अधिकार दिए जिससे वहाँ के नागरिक मुख्यधारा से जुड़कर विकास पथ पर आगे बढ़कर देश की प्रगति में अपना अमूल्य योगदान दे रहे हैं और लोगों को रोजगार एवं शिक्षा के समान अवसर मिल रहे हैं। #OneYearOfNoArticle370 https://t.co/d8eQfhWbzB</td>\n",
              "      <td>non-hostile</td>\n",
              "    </tr>\n",
              "  </tbody>\n",
              "</table>\n",
              "<p>8196 rows × 3 columns</p>\n",
              "</div>"
            ],
            "text/plain": [
              "      Unique ID  ...                 Labels Set\n",
              "0     1          ...  defamation,fake          \n",
              "1     2          ...  defamation,hate          \n",
              "2     3          ...  defamation               \n",
              "3     4          ...  defamation,fake,offensive\n",
              "4     5          ...  defamation,fake,offensive\n",
              "...  ..          ...                        ...\n",
              "8191  8192       ...  non-hostile              \n",
              "8192  8193       ...  non-hostile              \n",
              "8193  8194       ...  non-hostile              \n",
              "8194  8195       ...  non-hostile              \n",
              "8195  8196       ...  non-hostile              \n",
              "\n",
              "[8196 rows x 3 columns]"
            ]
          },
          "metadata": {
            "tags": []
          },
          "execution_count": 248
        }
      ]
    },
    {
      "cell_type": "markdown",
      "metadata": {
        "id": "uTv4wTKHJK6T",
        "colab_type": "text"
      },
      "source": [
        "### Distribution"
      ]
    },
    {
      "cell_type": "code",
      "metadata": {
        "id": "Kv9RWDu8oR6z",
        "colab_type": "code",
        "colab": {
          "base_uri": "https://localhost:8080/",
          "height": 118
        },
        "outputId": "c12eac01-ecfc-4a6d-8af1-bb1e6a9260a0"
      },
      "source": [
        "print(\"Total Samples in Defamation class:    \", counts[0])\n",
        "print(\"Total Samples in Fake class:          \", counts[1])\n",
        "print(\"Total Samples in Hate class:          \", counts[2])\n",
        "print(\"Total Samples in Offensive class:     \", counts[5])\n",
        "print(\"Total Samples in Miscellaneous class: \", counts[3])\n",
        "print(\"Total Samples in Non-Hostile class:   \", counts[4])"
      ],
      "execution_count": null,
      "outputs": [
        {
          "output_type": "stream",
          "text": [
            "Total Samples in Defamation class:     808\n",
            "Total Samples in Fake class:           1637\n",
            "Total Samples in Hate class:           1136\n",
            "Total Samples in Offensive class:      1056\n",
            "Total Samples in Miscellaneous class:  14\n",
            "Total Samples in Non-Hostile class:    4358\n"
          ],
          "name": "stdout"
        }
      ]
    },
    {
      "cell_type": "code",
      "metadata": {
        "id": "ddSRNGVkvCnh",
        "colab_type": "code",
        "colab": {
          "base_uri": "https://localhost:8080/",
          "height": 647
        },
        "outputId": "33d8778f-3d5f-4b5b-db48-c644e61cfbeb"
      },
      "source": [
        "data = {'Class': ['Defamation', 'Fake', 'Hate', 'Offensive', 'Miscellaneous', 'Non-Hostile'], 'Frequency': [counts[0], counts[1], counts[2], counts[5], counts[3], counts[4]]}\n",
        "\n",
        "data_df = pd.DataFrame(data)\n",
        "data_df.plot(x='Class',y='Frequency', kind='bar', title='Frequency Distribution of Hindi Hostility Dataset', figsize=(20,10), fontsize = 20 )\n",
        "plt.xticks(rotation=0)\n"
      ],
      "execution_count": null,
      "outputs": [
        {
          "output_type": "execute_result",
          "data": {
            "text/plain": [
              "(array([0, 1, 2, 3, 4, 5]), <a list of 6 Text major ticklabel objects>)"
            ]
          },
          "metadata": {
            "tags": []
          },
          "execution_count": 293
        },
        {
          "output_type": "display_data",
          "data": {
            "image/png": "[encoded data removed]",
            "text/plain": [
              "<Figure size 1440x720 with 1 Axes>"
            ]
          },
          "metadata": {
            "tags": [],
            "needs_background": "light"
          }
        }
      ]
    },
    {
      "cell_type": "code",
      "metadata": {
        "id": "W6VfKXscyrnj",
        "colab_type": "code",
        "colab": {
          "base_uri": "https://localhost:8080/",
          "height": 929
        },
        "outputId": "71c8c1aa-dac8-46b7-c50f-376ff9f7a97f"
      },
      "source": [
        "df['Labels Set'].value_counts().plot(kind='bar', title='Frequency Distribution of Hindi Hostility Dataset', figsize=(20,10), fontsize=20)"
      ],
      "execution_count": null,
      "outputs": [
        {
          "output_type": "execute_result",
          "data": {
            "text/plain": [
              "<matplotlib.axes._subplots.AxesSubplot at 0x7f71dcf9a5f8>"
            ]
          },
          "metadata": {
            "tags": []
          },
          "execution_count": 296
        },
        {
          "output_type": "display_data",
          "data": {
            "image/png": "[encoded data removed]",
            "text/plain": [
              "<Figure size 1440x720 with 1 Axes>"
            ]
          },
          "metadata": {
            "tags": [],
            "needs_background": "light"
          }
        }
      ]
    },
    {
      "cell_type": "code",
      "metadata": {
        "id": "SHSXxqU1Axhp",
        "colab_type": "code",
        "colab": {
          "base_uri": "https://localhost:8080/",
          "height": 319
        },
        "outputId": "2cb9c678-605b-4281-b4a6-9ebfd73a5041"
      },
      "source": [
        "df['Labels Set'].value_counts().sort_index()"
      ],
      "execution_count": null,
      "outputs": [
        {
          "output_type": "execute_result",
          "data": {
            "text/plain": [
              "defamation                        436 \n",
              "defamation,fake                   49  \n",
              "defamation,fake,hate              13  \n",
              "defamation,fake,hate,offensive    13  \n",
              "defamation,fake,offensive         35  \n",
              "defamation,hate                   106 \n",
              "defamation,hate,offensive         41  \n",
              "defamation,offensive              115 \n",
              "fake                              1441\n",
              "fake,hate                         39  \n",
              "fake,hate,offensive               7   \n",
              "fake,offensive                    40  \n",
              "hate                              684 \n",
              "hate,offensive                    233 \n",
              "miscellaneous                     14  \n",
              "non-hostile                       4358\n",
              "offensive                         572 \n",
              "Name: Labels Set, dtype: int64"
            ]
          },
          "metadata": {
            "tags": []
          },
          "execution_count": 250
        }
      ]
    },
    {
      "cell_type": "markdown",
      "metadata": {
        "id": "Pc0peIFKY2Cc",
        "colab_type": "text"
      },
      "source": [
        "### For Train-Test Split"
      ]
    },
    {
      "cell_type": "code",
      "metadata": {
        "id": "5y6UzbIlbWu8",
        "colab_type": "code",
        "colab": {
          "base_uri": "https://localhost:8080/",
          "height": 452
        },
        "outputId": "7b9f9f12-5776-4adb-b80d-48240c6b77a2"
      },
      "source": [
        "### For shuffling the dataset\n",
        "df = df.sample(frac = 1)\n",
        "df"
      ],
      "execution_count": null,
      "outputs": [
        {
          "output_type": "execute_result",
          "data": {
            "text/html": [
              "<div>\n",
              "<style scoped>\n",
              "    .dataframe tbody tr th:only-of-type {\n",
              "        vertical-align: middle;\n",
              "    }\n",
              "\n",
              "    .dataframe tbody tr th {\n",
              "        vertical-align: top;\n",
              "    }\n",
              "\n",
              "    .dataframe thead th {\n",
              "        text-align: right;\n",
              "    }\n",
              "</style>\n",
              "<table border=\"1\" class=\"dataframe\">\n",
              "  <thead>\n",
              "    <tr style=\"text-align: right;\">\n",
              "      <th></th>\n",
              "      <th>Unique ID</th>\n",
              "      <th>Post</th>\n",
              "      <th>Labels Set</th>\n",
              "    </tr>\n",
              "  </thead>\n",
              "  <tbody>\n",
              "    <tr>\n",
              "      <th>6221</th>\n",
              "      <td>6222</td>\n",
              "      <td>#Varanasi के नाविक परिवारों की मदद को आगे आए #SonuSood , कहा-कोई भूखा नहीं सोएगा https://t.co/ZSS3vDiRaf</td>\n",
              "      <td>non-hostile</td>\n",
              "    </tr>\n",
              "    <tr>\n",
              "      <th>4580</th>\n",
              "      <td>4581</td>\n",
              "      <td>नस्लभेद पर क्या कहती हैं मार्टिन लूथर किंग की बेटी https://t.co/PxpassURln</td>\n",
              "      <td>non-hostile</td>\n",
              "    </tr>\n",
              "    <tr>\n",
              "      <th>1816</th>\n",
              "      <td>1817</td>\n",
              "      <td>बहुजन बोलते हैं बहुजन की राज होगी कैसे होगी जनसंख्या आपकी ईवीएम आपकी नहीं चुनाव आयोग आप की नहीं न्यायपालिका आपकी नहीं सिस्टम में आपका अधिकारी नहीं फिर राज्य कैसे लाओगे जनसंख्या से नहीं ला पाओगे जनसंख्या  वोट करेगी वोट को ईवीएम पलट देगी  बहुजन गुलाम हैं आजादी की लड़ाई  लड़नी होगी</td>\n",
              "      <td>defamation</td>\n",
              "    </tr>\n",
              "    <tr>\n",
              "      <th>1711</th>\n",
              "      <td>1712</td>\n",
              "      <td>चीन से तनाव पर बोले विदेश मंत्री एस जयशंकर, एलएसी 'हालात' बेहद गंभीर क्योंकि बिहार में चुनाव एलएसी  पर तनाव</td>\n",
              "      <td>defamation,offensive</td>\n",
              "    </tr>\n",
              "    <tr>\n",
              "      <th>2898</th>\n",
              "      <td>2899</td>\n",
              "      <td>यदि ऐसा कुछ है तो बहुत अच्छा निर्णय है. लेकिन काश मानसिकता भी बदली होती और जैसा कि आप बता रहे हो बाबरी अस्पताल तो इसका नाम किसी मुस्लिम महापुरुष के नाम पर रखा होता ना कि आक्रांता के नाम पर</td>\n",
              "      <td>fake</td>\n",
              "    </tr>\n",
              "    <tr>\n",
              "      <th>...</th>\n",
              "      <td>...</td>\n",
              "      <td>...</td>\n",
              "      <td>...</td>\n",
              "    </tr>\n",
              "    <tr>\n",
              "      <th>4409</th>\n",
              "      <td>4410</td>\n",
              "      <td>मुस्लिम समाज में प्रचलित पुरुषों के बहुविवाह और निकाह हलाला को चुनौती देने वाली याचिकाओं को जल्द सुनवाई के लिए लगाने से SC ने मना किया। कहा- अभी सुनवाई के लिए संविधान पीठ का गठन कर पाना संभव नहीं है।\\n\\nSC ने पिछले साल 26 मार्च को इस मसले पर सरकार को नोटिस जारी किया था</td>\n",
              "      <td>non-hostile</td>\n",
              "    </tr>\n",
              "    <tr>\n",
              "      <th>6283</th>\n",
              "      <td>6284</td>\n",
              "      <td>सुशांत केस में NCB की बड़ी कार्रवाई, मुंबई में दूसरे ड्रग्स डीलर की गिरफ्तारी\\n#Sushantcase, #RheaChakraborty https://t.co/fkY7x8m0nX</td>\n",
              "      <td>non-hostile</td>\n",
              "    </tr>\n",
              "    <tr>\n",
              "      <th>2729</th>\n",
              "      <td>2730</td>\n",
              "      <td>यह कश्मीर या केरल नहीं है।\"इस्लाम जिंदाबाद\" का यह जाप राजधानी कोलकाता में, ममता बनर्जी द्वारा शासित पश्चिम बंगाल में किया जा रहा है! भांड़ूया हिंदू समाज इसे बड़वा दे रही' |\\n\\n</td>\n",
              "      <td>fake</td>\n",
              "    </tr>\n",
              "    <tr>\n",
              "      <th>6437</th>\n",
              "      <td>6438</td>\n",
              "      <td>उत्तर-पूर्व को छोड़कर बाकी सभी क्षेत्रों में सामान्य वर्षा दर्ज की गई; उत्तर-पूर्व में सामान्य से 10 प्रतिशत कम वर्षा दर्ज की गई: मौसम विभाग</td>\n",
              "      <td>non-hostile</td>\n",
              "    </tr>\n",
              "    <tr>\n",
              "      <th>4257</th>\n",
              "      <td>4258</td>\n",
              "      <td>हॉकी के जादूगर मेजर ध्यानचंद जी की जयंती एवं राष्ट्रीय खेल दिवस की आप सभी को हार्दिक शुभकामनाएं।\\n#NationalSportsDay https://t.co/9oTMnON7N0</td>\n",
              "      <td>non-hostile</td>\n",
              "    </tr>\n",
              "  </tbody>\n",
              "</table>\n",
              "<p>8196 rows × 3 columns</p>\n",
              "</div>"
            ],
            "text/plain": [
              "      Unique ID  ...            Labels Set\n",
              "6221  6222       ...  non-hostile         \n",
              "4580  4581       ...  non-hostile         \n",
              "1816  1817       ...  defamation          \n",
              "1711  1712       ...  defamation,offensive\n",
              "2898  2899       ...  fake                \n",
              "...    ...       ...   ...                \n",
              "4409  4410       ...  non-hostile         \n",
              "6283  6284       ...  non-hostile         \n",
              "2729  2730       ...  fake                \n",
              "6437  6438       ...  non-hostile         \n",
              "4257  4258       ...  non-hostile         \n",
              "\n",
              "[8196 rows x 3 columns]"
            ]
          },
          "metadata": {
            "tags": []
          },
          "execution_count": 251
        }
      ]
    },
    {
      "cell_type": "code",
      "metadata": {
        "id": "pNtqoMB-CHBt",
        "colab_type": "code",
        "colab": {
          "base_uri": "https://localhost:8080/",
          "height": 302
        },
        "outputId": "c6e4e418-f8f6-43e5-9aad-490ee91c7c06"
      },
      "source": [
        "keys   = df['Labels Set'].value_counts().sort_index().keys()\n",
        "values = list(df['Labels Set'].value_counts().sort_index())\n",
        "dict   = {}\n",
        "\n",
        "for key,value in zip(keys,values):\n",
        "    dict[key] = value\n",
        "\n",
        "dict    "
      ],
      "execution_count": null,
      "outputs": [
        {
          "output_type": "execute_result",
          "data": {
            "text/plain": [
              "{'defamation': 436,\n",
              " 'defamation,fake': 49,\n",
              " 'defamation,fake,hate': 13,\n",
              " 'defamation,fake,hate,offensive': 13,\n",
              " 'defamation,fake,offensive': 35,\n",
              " 'defamation,hate': 106,\n",
              " 'defamation,hate,offensive': 41,\n",
              " 'defamation,offensive': 115,\n",
              " 'fake': 1441,\n",
              " 'fake,hate': 39,\n",
              " 'fake,hate,offensive': 7,\n",
              " 'fake,offensive': 40,\n",
              " 'hate': 684,\n",
              " 'hate,offensive': 233,\n",
              " 'miscellaneous': 14,\n",
              " 'non-hostile': 4358,\n",
              " 'offensive': 572}"
            ]
          },
          "metadata": {
            "tags": []
          },
          "execution_count": 252
        }
      ]
    },
    {
      "cell_type": "code",
      "metadata": {
        "id": "WDg76pRaYGJf",
        "colab_type": "code",
        "colab": {
          "base_uri": "https://localhost:8080/",
          "height": 302
        },
        "outputId": "62d46c8b-d68b-43d3-b24b-dd05fdc0784f"
      },
      "source": [
        "size  = 0.8\n",
        "train = []\n",
        "text  = []\n",
        "\n",
        "train_df = pd.DataFrame()\n",
        "test_df  = pd.DataFrame()\n",
        "\n",
        "a = 0\n",
        "for key in dict.keys():\n",
        "\n",
        "    # a = df.loc[df['Labels Set'] == key]\n",
        "    temp     = copy.deepcopy(df.loc[df['Labels Set'] == key])\n",
        "    length   = int(len(temp)*size)\n",
        "    train_df = train_df.append(temp.iloc[:length,:])\n",
        "    test_df  = test_df.append( temp.iloc[length:,:])\n",
        "    # print(\"Class ---- \",key,\" ----- original, train and test distribution: \",len(temp),length,len(temp)-length)\n",
        "    print('Class {:30s} ------> {:5}   = {:5}    + {:5}'.format(key, len(temp), length, len(temp) - length))\n",
        "\n",
        "\n",
        "train_df              = train_df.sample(frac = 1)\n",
        "test_df               = test_df.sample( frac = 1)\n",
        "train_df[\"Unique ID\"] = np.arange(1,len(train_df)+1)\n",
        "test_df[\"Unique ID\"]  = np.arange(1,len(test_df)+1)\n",
        "train_df              = train_df.reset_index(drop=True)\n",
        "test_df               = test_df.reset_index(drop=True)"
      ],
      "execution_count": null,
      "outputs": [
        {
          "output_type": "stream",
          "text": [
            "Class defamation                     ------>   436   =   348    +    88\n",
            "Class defamation,fake                ------>    49   =    39    +    10\n",
            "Class defamation,fake,hate           ------>    13   =    10    +     3\n",
            "Class defamation,fake,hate,offensive ------>    13   =    10    +     3\n",
            "Class defamation,fake,offensive      ------>    35   =    28    +     7\n",
            "Class defamation,hate                ------>   106   =    84    +    22\n",
            "Class defamation,hate,offensive      ------>    41   =    32    +     9\n",
            "Class defamation,offensive           ------>   115   =    92    +    23\n",
            "Class fake                           ------>  1441   =  1152    +   289\n",
            "Class fake,hate                      ------>    39   =    31    +     8\n",
            "Class fake,hate,offensive            ------>     7   =     5    +     2\n",
            "Class fake,offensive                 ------>    40   =    32    +     8\n",
            "Class hate                           ------>   684   =   547    +   137\n",
            "Class hate,offensive                 ------>   233   =   186    +    47\n",
            "Class miscellaneous                  ------>    14   =    11    +     3\n",
            "Class non-hostile                    ------>  4358   =  3486    +   872\n",
            "Class offensive                      ------>   572   =   457    +   115\n"
          ],
          "name": "stdout"
        }
      ]
    },
    {
      "cell_type": "code",
      "metadata": {
        "id": "c0YufhGKYyv2",
        "colab_type": "code",
        "colab": {
          "base_uri": "https://localhost:8080/",
          "height": 452
        },
        "outputId": "16e31ca3-9b5e-4809-ab53-000543c7cad5"
      },
      "source": [
        "train_df"
      ],
      "execution_count": null,
      "outputs": [
        {
          "output_type": "execute_result",
          "data": {
            "text/html": [
              "<div>\n",
              "<style scoped>\n",
              "    .dataframe tbody tr th:only-of-type {\n",
              "        vertical-align: middle;\n",
              "    }\n",
              "\n",
              "    .dataframe tbody tr th {\n",
              "        vertical-align: top;\n",
              "    }\n",
              "\n",
              "    .dataframe thead th {\n",
              "        text-align: right;\n",
              "    }\n",
              "</style>\n",
              "<table border=\"1\" class=\"dataframe\">\n",
              "  <thead>\n",
              "    <tr style=\"text-align: right;\">\n",
              "      <th></th>\n",
              "      <th>Unique ID</th>\n",
              "      <th>Post</th>\n",
              "      <th>Labels Set</th>\n",
              "    </tr>\n",
              "  </thead>\n",
              "  <tbody>\n",
              "    <tr>\n",
              "      <th>0</th>\n",
              "      <td>1</td>\n",
              "      <td>भारतीय सेना के जवानों ने हर बार चीन की कोशिशों को किया नाकाम \\n#IndiaChinaFaceOff \\n\\nhttps://t.co/FIRNt1RsNM</td>\n",
              "      <td>non-hostile</td>\n",
              "    </tr>\n",
              "    <tr>\n",
              "      <th>1</th>\n",
              "      <td>2</td>\n",
              "      <td>खुद को कॉरॉना हुआ तो अब दिल्ली के अस्पताल सभी के लिए खुले है। अरविंद केजरीवाल तू तो बहुत बड़ा बला रंग बदलू निकला।</td>\n",
              "      <td>fake</td>\n",
              "    </tr>\n",
              "    <tr>\n",
              "      <th>2</th>\n",
              "      <td>3</td>\n",
              "      <td>कंगना रनौत का ऑफिस अगर अवैध रूप से बना है। तो #BMC को पूरा अधिकार है इसे तोड़ने का।</td>\n",
              "      <td>fake</td>\n",
              "    </tr>\n",
              "    <tr>\n",
              "      <th>3</th>\n",
              "      <td>4</td>\n",
              "      <td>महाराष्ट्र सरकार ने कंगना को सुरक्षा मिलने पर आश्चर्य जताया https://t.co/RcXuf41Bqb</td>\n",
              "      <td>non-hostile</td>\n",
              "    </tr>\n",
              "    <tr>\n",
              "      <th>4</th>\n",
              "      <td>5</td>\n",
              "      <td>@KanganaTeeam घटिया ओरत आ गई ओकाद पे, हिन्दू मुस्लिम की बात करने की हिम्मत कैसे हुए तेरी , कमीनी देश की एकता को तोड़ने की कोशिश कर रही है, India never forgive you. Jai Hind 🇮🇳</td>\n",
              "      <td>defamation,fake,hate,offensive</td>\n",
              "    </tr>\n",
              "    <tr>\n",
              "      <th>...</th>\n",
              "      <td>...</td>\n",
              "      <td>...</td>\n",
              "      <td>...</td>\n",
              "    </tr>\n",
              "    <tr>\n",
              "      <th>6545</th>\n",
              "      <td>6546</td>\n",
              "      <td>किसानों की दुगणी आय $$ वाला डाॅयलाॅग शायद यही देखकर उठाया था क्या....???</td>\n",
              "      <td>defamation,offensive</td>\n",
              "    </tr>\n",
              "    <tr>\n",
              "      <th>6546</th>\n",
              "      <td>6547</td>\n",
              "      <td>जब सोनिया गाँधी एक बार डाँसर थी\\n</td>\n",
              "      <td>fake</td>\n",
              "    </tr>\n",
              "    <tr>\n",
              "      <th>6547</th>\n",
              "      <td>6548</td>\n",
              "      <td>क्रेडिट कार्ड से लोन नहीं मिलने से नाराज छात्रों ने शिक्षा मंत्री आवास का किया घेराव, जमकर की नारेबाजी\\n\\nरिपोर्टः- @KumarPrakash4u \\n\\n#Bihar #NitishKumar #EducationMinister \\n\\nhttps://t.co/SeudNLEzfI</td>\n",
              "      <td>non-hostile</td>\n",
              "    </tr>\n",
              "    <tr>\n",
              "      <th>6548</th>\n",
              "      <td>6549</td>\n",
              "      <td>सऊदी अरब सरकार ने अरबी में भगवद्गीता रिलीज की लेकिन यहां तो भारत माता जय बोलने से इस्लाम खतरे में आ जाता है..!!</td>\n",
              "      <td>fake</td>\n",
              "    </tr>\n",
              "    <tr>\n",
              "      <th>6549</th>\n",
              "      <td>6550</td>\n",
              "      <td>एससीओ बैठक के लिए आज रूस जाएंगे राजनाथ, चीन से वार्ता तय नहीं\\n#SCOmeeting\\n#rajnathsingh\\n#Indiarussia @DefenceMinIndia @rajnathsingh\\nhttps://t.co/I7ifVX6LX6</td>\n",
              "      <td>non-hostile</td>\n",
              "    </tr>\n",
              "  </tbody>\n",
              "</table>\n",
              "<p>6550 rows × 3 columns</p>\n",
              "</div>"
            ],
            "text/plain": [
              "      Unique ID  ...                      Labels Set\n",
              "0     1          ...  non-hostile                   \n",
              "1     2          ...  fake                          \n",
              "2     3          ...  fake                          \n",
              "3     4          ...  non-hostile                   \n",
              "4     5          ...  defamation,fake,hate,offensive\n",
              "...  ..          ...                             ...\n",
              "6545  6546       ...  defamation,offensive          \n",
              "6546  6547       ...  fake                          \n",
              "6547  6548       ...  non-hostile                   \n",
              "6548  6549       ...  fake                          \n",
              "6549  6550       ...  non-hostile                   \n",
              "\n",
              "[6550 rows x 3 columns]"
            ]
          },
          "metadata": {
            "tags": []
          },
          "execution_count": 254
        }
      ]
    },
    {
      "cell_type": "code",
      "metadata": {
        "id": "fU3nndMwYyZZ",
        "colab_type": "code",
        "colab": {
          "base_uri": "https://localhost:8080/",
          "height": 502
        },
        "outputId": "176d7287-b246-415e-ab3b-4a886d31e3aa"
      },
      "source": [
        "test_df"
      ],
      "execution_count": null,
      "outputs": [
        {
          "output_type": "execute_result",
          "data": {
            "text/html": [
              "<div>\n",
              "<style scoped>\n",
              "    .dataframe tbody tr th:only-of-type {\n",
              "        vertical-align: middle;\n",
              "    }\n",
              "\n",
              "    .dataframe tbody tr th {\n",
              "        vertical-align: top;\n",
              "    }\n",
              "\n",
              "    .dataframe thead th {\n",
              "        text-align: right;\n",
              "    }\n",
              "</style>\n",
              "<table border=\"1\" class=\"dataframe\">\n",
              "  <thead>\n",
              "    <tr style=\"text-align: right;\">\n",
              "      <th></th>\n",
              "      <th>Unique ID</th>\n",
              "      <th>Post</th>\n",
              "      <th>Labels Set</th>\n",
              "    </tr>\n",
              "  </thead>\n",
              "  <tbody>\n",
              "    <tr>\n",
              "      <th>0</th>\n",
              "      <td>1</td>\n",
              "      <td>ग्रामीण पृष्ठभूमि से हूं एक बात कहूंगा की जब बैलगाड़ी को बैल खींच रहे होते है तब उसके नीचे एक कुतिया भी चलती है और सोचती है बैलगाड़ी में खींच रही हूं लेकिन जब कुतिया को बैल की लात पड़ती है तो उसकी गलतफहमी दूर होती है की गाड़ी में नहीं बैल खींच रहे है ऐसा ही हाल आपका है! https://t.co/87xerM5zYP</td>\n",
              "      <td>miscellaneous</td>\n",
              "    </tr>\n",
              "    <tr>\n",
              "      <th>1</th>\n",
              "      <td>2</td>\n",
              "      <td>श्री अयोध्या जी में श्री राम मंदिर निर्माण, ब्रह्मलीन महंत दिग्विजयनाथ जी महाराज एवं ब्रह्मलीन महंत अवेद्यनाथ जी महाराज के जीवन का अभीष्ट था।\\n\\nमंदिर निर्माण कार्य प्रारंभ होने के उपरांत, देश में पहली रामकथा का आयोजन श्री गोरक्षपीठ में ही हो रहा है।\\n\\nयह अतीव प्रसन्नता का विषय है।</td>\n",
              "      <td>non-hostile</td>\n",
              "    </tr>\n",
              "    <tr>\n",
              "      <th>2</th>\n",
              "      <td>3</td>\n",
              "      <td>#INDvNZL : सेमीफाइनल में भारत की हार पर बोले अदनान सामी, टीम इंडिया तुम पर गर्व है\\nhttps://t.co/3vgZIoRIUz\\n\\n#indiavsNewzealand #INDvNZL #BleedBlue #MenInBlue https://t.co/DDWuysLmRT</td>\n",
              "      <td>non-hostile</td>\n",
              "    </tr>\n",
              "    <tr>\n",
              "      <th>3</th>\n",
              "      <td>4</td>\n",
              "      <td>@SPSCT1 @ndtvindia कमीनी क्रूर जल्लाद कांईया निष्ठुर सरकार</td>\n",
              "      <td>hate</td>\n",
              "    </tr>\n",
              "    <tr>\n",
              "      <th>4</th>\n",
              "      <td>5</td>\n",
              "      <td>मशहूर वकील इंदिरा जयसिंह और आनंद ग्रोवर के घर CBI छापेमारी पर भड़का विपक्ष, PM को लिखा खत\\n#IndiraJaising \\nhttps://t.co/OzGF8yM0Uh https://t.co/hcL62MnFrW</td>\n",
              "      <td>non-hostile</td>\n",
              "    </tr>\n",
              "    <tr>\n",
              "      <th>...</th>\n",
              "      <td>...</td>\n",
              "      <td>...</td>\n",
              "      <td>...</td>\n",
              "    </tr>\n",
              "    <tr>\n",
              "      <th>1641</th>\n",
              "      <td>1642</td>\n",
              "      <td>आज का सवाल - ❓\\n\\n🖕🏻प्रियंका में इंदिरा दिखती हैं,\\nतो राहुल में फिरोज क्यों नही दिखते 🤔?</td>\n",
              "      <td>hate</td>\n",
              "    </tr>\n",
              "    <tr>\n",
              "      <th>1642</th>\n",
              "      <td>1643</td>\n",
              "      <td>B.j.p. विधायक अनिल उपाध्याय की इस हरकत  पर क्या कहेगे मोदी जी,\\n \\n@narendramodi\\n \\nखुल  के बयानबाजी  दे रहे साहब की \\nहमें घर मैं घुसा के मरेंगे  जो  मोदी  और बीजेपी के खिलाफ बोलेगा. \\nतुंरत एक्शन लिया  जाये.</td>\n",
              "      <td>defamation,fake,hate</td>\n",
              "    </tr>\n",
              "    <tr>\n",
              "      <th>1643</th>\n",
              "      <td>1644</td>\n",
              "      <td>पूर्व राष्ट्रपति प्रणब मुखर्जी के निधन पर पीएम मोदी ने जताया दुख https://t.co/6NvYp1cjn1</td>\n",
              "      <td>non-hostile</td>\n",
              "    </tr>\n",
              "    <tr>\n",
              "      <th>1644</th>\n",
              "      <td>1645</td>\n",
              "      <td>#ENGvAUS : आरोन फिंच ने इंग्‍लैंड के खिलाफ बनाए दो बड़े रिकॉर्ड, सिर्फ विराट कोहली से रह गए पीछे\\n\\nhttps://t.co/Y0OLCaYsJp</td>\n",
              "      <td>non-hostile</td>\n",
              "    </tr>\n",
              "    <tr>\n",
              "      <th>1645</th>\n",
              "      <td>1646</td>\n",
              "      <td>सोशल मीडिया पर यह वीडियो पटना #AIIMS और दिल्ली के अस्पताल के नाम से शेयर किया जा रहा है. वास्तव में यह वीडियो पटना महावीर कैंसर संस्थान का है, पढ़ें पूरी रिपोर्ट-\\n\\n@JagranNews @newsvishvas \\n\\nhttps://t.co/WV4mn8UnE1</td>\n",
              "      <td>non-hostile</td>\n",
              "    </tr>\n",
              "  </tbody>\n",
              "</table>\n",
              "<p>1646 rows × 3 columns</p>\n",
              "</div>"
            ],
            "text/plain": [
              "      Unique ID  ...            Labels Set\n",
              "0     1          ...  miscellaneous       \n",
              "1     2          ...  non-hostile         \n",
              "2     3          ...  non-hostile         \n",
              "3     4          ...  hate                \n",
              "4     5          ...  non-hostile         \n",
              "...  ..          ...          ...         \n",
              "1641  1642       ...  hate                \n",
              "1642  1643       ...  defamation,fake,hate\n",
              "1643  1644       ...  non-hostile         \n",
              "1644  1645       ...  non-hostile         \n",
              "1645  1646       ...  non-hostile         \n",
              "\n",
              "[1646 rows x 3 columns]"
            ]
          },
          "metadata": {
            "tags": []
          },
          "execution_count": 255
        }
      ]
    },
    {
      "cell_type": "code",
      "metadata": {
        "id": "DHRWnGemYyVz",
        "colab_type": "code",
        "colab": {}
      },
      "source": [
        ""
      ],
      "execution_count": null,
      "outputs": []
    },
    {
      "cell_type": "code",
      "metadata": {
        "id": "6uQz3alGlGWD",
        "colab_type": "code",
        "colab": {}
      },
      "source": [
        "train_df.to_csv(\"/gdrive/My Drive/3rd Sem/MTech CSE 3/Thesis/IIITD Fake News Project/Data Set/Constraint 21/Hostility Approach/Complete Dataset/Final Processed Dataset/80-20 Split/train.csv\",index=False)\n",
        "test_df.to_csv( \"/gdrive/My Drive/3rd Sem/MTech CSE 3/Thesis/IIITD Fake News Project/Data Set/Constraint 21/Hostility Approach/Complete Dataset/Final Processed Dataset/80-20 Split/test.csv\", index=False)"
      ],
      "execution_count": null,
      "outputs": []
    },
    {
      "cell_type": "code",
      "metadata": {
        "id": "jbUAxf8_lGSj",
        "colab_type": "code",
        "colab": {}
      },
      "source": [
        ""
      ],
      "execution_count": null,
      "outputs": []
    }
  ]
}