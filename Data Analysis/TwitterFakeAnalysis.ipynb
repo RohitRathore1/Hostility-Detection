{
  "cells": [
    {
      "cell_type": "markdown",
      "metadata": {
        "colab_type": "text",
        "id": "view-in-github"
      },
      "source": [
        "<a href=\"https://colab.research.google.com/github/TeAmP0is0N/Fake-News-Hindi/blob/master/Data%20Analysis/TwitterFakeAnalysis.ipynb\" target=\"_parent\"><img src=\"https://colab.research.google.com/assets/colab-badge.svg\" alt=\"Open In Colab\"/></a>"
      ]
    },
    {
      "cell_type": "code",
      "execution_count": 1,
      "metadata": {
        "colab": {
          "base_uri": "https://localhost:8080/",
          "height": 34
        },
        "colab_type": "code",
        "id": "o91nMencXm-T",
        "outputId": "f315ea3a-a958-4bc4-e5b0-97bb6339307d",
        "vscode": {
          "languageId": "python"
        }
      },
      "outputs": [
        {
          "name": "stdout",
          "output_type": "stream",
          "text": [
            "Mounted at /gdrive\n"
          ]
        }
      ],
      "source": [
        "from google.colab import drive\n",
        "drive.mount('/gdrive')"
      ]
    },
    {
      "cell_type": "code",
      "execution_count": 2,
      "metadata": {
        "colab": {},
        "colab_type": "code",
        "id": "eTZfF8tiXoQI",
        "vscode": {
          "languageId": "python"
        }
      },
      "outputs": [],
      "source": [
        "import sys\n",
        "sys.path.append('/gdrive/My Drive/IIITD Fake News Project/Notebooks/Data Analysis')"
      ]
    },
    {
      "cell_type": "code",
      "execution_count": 3,
      "metadata": {
        "colab": {},
        "colab_type": "code",
        "id": "AmagVBdVX6fI",
        "vscode": {
          "languageId": "python"
        }
      },
      "outputs": [],
      "source": [
        "import re\n",
        "import tweepy\n",
        "import difflib\n",
        "import pandas as pd\n",
        "import numpy as np\n",
        "import pickle\n",
        "import time\n",
        "import copy\n",
        "import matplotlib.pyplot as plt\n",
        "from datetime import date\n",
        "from collections import Counter "
      ]
    },
    {
      "cell_type": "code",
      "execution_count": 4,
      "metadata": {
        "colab": {},
        "colab_type": "code",
        "id": "I5uZSOtOX8dJ",
        "vscode": {
          "languageId": "python"
        }
      },
      "outputs": [],
      "source": [
        "####input your credentials here\n",
        "access_token = \"\"\n",
        "access_token_secret = \"\"\n",
        "consumer_key = \"\"\n",
        "consumer_secret = \"\""
      ]
    },
    {
      "cell_type": "code",
      "execution_count": 5,
      "metadata": {
        "colab": {},
        "colab_type": "code",
        "id": "BKl444PaX_Bc",
        "vscode": {
          "languageId": "python"
        }
      },
      "outputs": [],
      "source": [
        "auth = tweepy.OAuthHandler(consumer_key, consumer_secret)\n",
        "auth.set_access_token(access_token, access_token_secret)\n",
        "api = tweepy.API(auth,wait_on_rate_limit=True)"
      ]
    },
    {
      "cell_type": "code",
      "execution_count": 6,
      "metadata": {
        "colab": {},
        "colab_type": "code",
        "id": "q0-qnjpoYAwI",
        "vscode": {
          "languageId": "python"
        }
      },
      "outputs": [],
      "source": [
        "pd.options.display.max_colwidth = 0"
      ]
    },
    {
      "cell_type": "code",
      "execution_count": 7,
      "metadata": {
        "colab": {
          "base_uri": "https://localhost:8080/",
          "height": 71
        },
        "colab_type": "code",
        "id": "wzZsBLLEYCtJ",
        "outputId": "88874c16-e3a7-4ce2-a41c-fc71ba9bd363",
        "vscode": {
          "languageId": "python"
        }
      },
      "outputs": [
        {
          "name": "stdout",
          "output_type": "stream",
          "text": [
            "Total number of stopwords in Hindi are:  264\n",
            "['मैं', 'मुझको', 'मेरा', 'अपने आप को', 'हमने', 'हमारा', 'अपना', 'हम', 'आप', 'आपका', 'तुम्हारा', 'अपने आप', 'स्वयं', 'वह', 'इसे', 'उसके', 'खुद को', 'कि वह', 'उसकी', 'उसका', 'खुद ही', 'यह', 'इसके', 'उन्होने', 'अपने', 'क्या', 'जो', 'किसे', 'किसको', 'कि', 'ये', 'हूँ', 'होता है', 'रहे', 'थी', 'थे', 'होना', 'गया', 'किया जा रहा है', 'किया है', 'है', 'पडा', 'होने', 'करना', 'करता है', 'किया', 'रही', 'एक', 'लेकिन', 'अगर', 'या', 'क्यूंकि', 'जैसा', 'जब तक', 'जबकि', 'की', 'पर', 'द्वारा', 'के लिए', 'साथ', 'के बारे में', 'खिलाफ', 'बीच', 'में', 'के माध्यम से', 'दौरान', 'से पहले', 'के बाद', 'ऊपर', 'नीचे', 'को', 'से', 'तक', 'से नीचे', 'करने में', 'निकल', 'बंद', 'से अधिक', 'तहत', 'दुबारा', 'आगे', 'फिर', 'एक बार', 'यहाँ', 'वहाँ', 'कब', 'कहाँ', 'क्यों', 'कैसे', 'सारे', 'किसी', 'दोनो', 'प्रत्येक', 'ज्यादा', 'अधिकांश', 'अन्य', 'में कुछ', 'ऐसा', 'में कोई', 'मात्र', 'खुद', 'समान', 'इसलिए', 'बहुत', 'सकता', 'जायेंगे', 'जरा', 'चाहिए', 'अभी', 'और', 'कर दिया', 'रखें', 'का', 'हैं', 'इस', 'होता', 'करने', 'ने', 'बनी', 'तो', 'ही', 'हो', 'इसका', 'था', 'हुआ', 'वाले', 'बाद', 'लिए', 'सकते', 'इसमें', 'दो', 'वे', 'करते', 'कहा', 'वर्ग', 'कई', 'करें', 'होती', 'अपनी', 'उनके', 'यदि', 'हुई', 'जा', 'कहते', 'जब', 'होते', 'कोई', 'हुए', 'व', 'जैसे', 'सभी', 'करता', 'उनकी', 'तरह', 'उस', 'आदि', 'इसकी', 'उनका', 'इसी', 'पे', 'तथा', 'भी', 'परंतु', 'इन', 'कम', 'दूर', 'पूरे', 'गये', 'तुम', 'मै', 'यहां', 'हुये', 'कभी', 'अथवा', 'गयी', 'प्रति', 'जाता', 'इन्हें', 'गई', 'अब', 'जिसमें', 'लिया', 'बड़ा', 'जाती', 'तब', 'उसे', 'जाते', 'लेकर', 'बड़े', 'दूसरे', 'जाने', 'बाहर', 'स्थान', 'उन्हें ', 'गए', 'ऐसे', 'जिससे', 'समय', 'दोनों', 'किए', 'रहती', 'इनके', 'इनका', 'इनकी', 'सकती', 'आज', 'कल', 'जिन्हें', 'जिन्हों', 'तिन्हें', 'तिन्हों', 'किन्हों', 'किन्हें', 'इत्यादि', 'इन्हों', 'उन्हों', 'बिलकुल', 'निहायत', 'इन्हीं', 'उन्हीं', 'जितना', 'दूसरा', 'कितना', 'साबुत', 'वग़ैरह', 'कौनसा', 'लिये', 'दिया', 'जिसे', 'तिसे', 'काफ़ी', 'पहले', 'बाला', 'मानो', 'अंदर', 'भीतर', 'पूरा', 'सारा', 'उनको', 'वहीं', 'जहाँ', 'जीधर', '\\ufeffके', 'एवं', 'कुछ', 'कुल', 'रहा', 'जिस', 'जिन', 'तिस', 'तिन', 'कौन', 'किस', 'संग', 'यही', 'बही', 'उसी', 'मगर', 'कर', 'मे', 'एस', 'उन', 'सो', 'अत']\n"
          ]
        }
      ],
      "source": [
        "### List of Hindi Stopwords\n",
        "\n",
        "stopwords = []\n",
        "\n",
        "file = open(\"/gdrive/My Drive/IIITD Fake News Project/Notebooks/Data Analysis/final_stopwords.txt\", 'r')\n",
        "for word in file:\n",
        "    word = word.split(\"\\n\")[0]\n",
        "    stopwords.append(word)\n",
        "\n",
        "print(\"Total number of stopwords in Hindi are: \",len(stopwords))\n",
        "print(stopwords)"
      ]
    },
    {
      "cell_type": "code",
      "execution_count": 9,
      "metadata": {
        "colab": {
          "base_uri": "https://localhost:8080/",
          "height": 657
        },
        "colab_type": "code",
        "id": "NyDecsAHYF0X",
        "outputId": "ab892040-fe61-407f-d716-fcffa2bb1342",
        "vscode": {
          "languageId": "python"
        }
      },
      "outputs": [
        {
          "data": {
            "text/html": [
              "<div>\n",
              "<style scoped>\n",
              "    .dataframe tbody tr th:only-of-type {\n",
              "        vertical-align: middle;\n",
              "    }\n",
              "\n",
              "    .dataframe tbody tr th {\n",
              "        vertical-align: top;\n",
              "    }\n",
              "\n",
              "    .dataframe thead th {\n",
              "        text-align: right;\n",
              "    }\n",
              "</style>\n",
              "<table border=\"1\" class=\"dataframe\">\n",
              "  <thead>\n",
              "    <tr style=\"text-align: right;\">\n",
              "      <th></th>\n",
              "      <th>Tweet ID</th>\n",
              "      <th>Tweet Text</th>\n",
              "      <th>Label</th>\n",
              "      <th>Reason</th>\n",
              "      <th>URL</th>\n",
              "    </tr>\n",
              "  </thead>\n",
              "  <tbody>\n",
              "    <tr>\n",
              "      <th>0</th>\n",
              "      <td>1296379540730572801</td>\n",
              "      <td>जो बिना समाचार पत्रों के  प्रचार कर रहें हैं जी\\n``सरकारी हैं तो डरने की कोई बात नहीं\"\\nदूसरों को भी बुलवाकर कर बताऐंगे।।</td>\n",
              "      <td>Fake</td>\n",
              "      <td>Sarcastic Nature</td>\n",
              "      <td>http://twitter.com/anyuser/status/1296379540730572801</td>\n",
              "    </tr>\n",
              "    <tr>\n",
              "      <th>1</th>\n",
              "      <td>1294871202893139969</td>\n",
              "      <td>CCRAS,आयुष मंत्रालय भारत सरकार द्वारा 6 राज्यो मे चल रहे npcdcs के कार्यरत 500 युवा कर्मचारी का एक्सटेंशन मात्र 3महीने का तक ही दिया गया है\\n31october को इतने कर्मचारियों\\n को सरकार द्वारा बेरोजगार कर दिया जाएगा</td>\n",
              "      <td>Fake</td>\n",
              "      <td>Unverified source</td>\n",
              "      <td>http://twitter.com/anyuser/status/1294871202893139969</td>\n",
              "    </tr>\n",
              "    <tr>\n",
              "      <th>2</th>\n",
              "      <td>1265613003929587712</td>\n",
              "      <td>मुम्बई से  मंडुवाडीह पहुंची श्रमिक स्पेशल ट्रेन में 2 लोग मृत मिले...😥.मोदी जी के सपनो का भारत</td>\n",
              "      <td>Fake</td>\n",
              "      <td>Emotionally Biased</td>\n",
              "      <td>http://twitter.com/anyuser/status/1265613003929587712</td>\n",
              "    </tr>\n",
              "    <tr>\n",
              "      <th>3</th>\n",
              "      <td>1296369286257111041</td>\n",
              "      <td>डिजिटल दिखाकर भारत की सारी सम्पत्ति बेच दिया अब स्कूल बंध करके भारत के फिर से गुलाम बनाने का प्लान तैयार है। Corona दिखाकर शिक्षा छीन लिया अब स्कूल बंध होगी। ईवीएम की नाजायज सरकार ने भारत को भिखारी ओर लाचार बनाया है</td>\n",
              "      <td>Fake</td>\n",
              "      <td>Emotionally Biased</td>\n",
              "      <td>http://twitter.com/anyuser/status/1296369286257111041</td>\n",
              "    </tr>\n",
              "    <tr>\n",
              "      <th>4</th>\n",
              "      <td>1295736719124307968</td>\n",
              "      <td>लोक डाउन Corona महामारी में भी मा.वामन मेश्राम साहेब नहीं रुके लोगो के अधिकार के लिए लगातार आंदोलन शुरू रखा है। भारत की जनता जाग चुकी है\\nअपना अधिकार मांग रही है। लेकिन आरएसएस की मीडिया लगातार राम मंदिर के सिवा कुछ नहीं दिखा रही हैDown pointing backhand index\\n#राममंदिर_का_पोस्टमार्टम</td>\n",
              "      <td>Fake</td>\n",
              "      <td>Emotionally Biased</td>\n",
              "      <td>http://twitter.com/anyuser/status/1295736719124307968</td>\n",
              "    </tr>\n",
              "    <tr>\n",
              "      <th>...</th>\n",
              "      <td>...</td>\n",
              "      <td>...</td>\n",
              "      <td>...</td>\n",
              "      <td>...</td>\n",
              "      <td>...</td>\n",
              "    </tr>\n",
              "    <tr>\n",
              "      <th>2255</th>\n",
              "      <td>1305143438803832832</td>\n",
              "      <td>कुछ साल पहले हम सोचते थे कि जिस रफ्तार से टेक्नोलॉजी बढ़ रही है 🤔\\n\\n 2020 आते आते कार उड़ेगी 😇\\n\\nपर यहां तो तोते उड़ गए !😳😲😲</td>\n",
              "      <td>Fake</td>\n",
              "      <td>sarcastic nature</td>\n",
              "      <td>http://twitter.com/anyuser/status/1305143438803832832</td>\n",
              "    </tr>\n",
              "    <tr>\n",
              "      <th>2256</th>\n",
              "      <td>1305140858635780098</td>\n",
              "      <td>RT @Komal_433: क्यो योगी जी ने 2800 का कोरोना किट 15800 में खरीदा????\\n#योगी_का_कोरोना_घोटाला\\n@ShilpiSinghINC</td>\n",
              "      <td>Fake</td>\n",
              "      <td>unverified source</td>\n",
              "      <td>http://twitter.com/anyuser/status/1305140858635780098</td>\n",
              "    </tr>\n",
              "    <tr>\n",
              "      <th>2257</th>\n",
              "      <td>1305140858635780098</td>\n",
              "      <td>क्यो योगी जी ने 2800 का कोरोना किट 15800 में खरीदा????\\n#योगी_का_कोरोना_घोटाला\\n@ShilpiSinghINC</td>\n",
              "      <td>Fake</td>\n",
              "      <td>unverified source</td>\n",
              "      <td>http://twitter.com/anyuser/status/1305140858635780098</td>\n",
              "    </tr>\n",
              "    <tr>\n",
              "      <th>2258</th>\n",
              "      <td>1305139885859250178</td>\n",
              "      <td>कंगना को अगर मुख्यमंत्री को 'तू' बोलने पर Y+ सुरक्षा दी जाती है।\\nफिर तो मुझे Z++ देनी चाहिए थी। 😉 https://t.co/RTpNvMlSFG</td>\n",
              "      <td>Fake</td>\n",
              "      <td>sarcastic nature</td>\n",
              "      <td>http://twitter.com/anyuser/status/1305139885859250178</td>\n",
              "    </tr>\n",
              "    <tr>\n",
              "      <th>2259</th>\n",
              "      <td>1305129618450477058</td>\n",
              "      <td>RT @Komal_433: 1.पेट्रोल के दाम कम हुए की नही हुए!! \\n2.जेब मे थोड़ा पैसा बचने लगा की नही बचने लगा!! \\n  :-बाकी मजाक कल करेंगे \\n😜😂🤣</td>\n",
              "      <td>Fake</td>\n",
              "      <td>sarcastic nature</td>\n",
              "      <td>http://twitter.com/anyuser/status/1305129618450477058</td>\n",
              "    </tr>\n",
              "  </tbody>\n",
              "</table>\n",
              "<p>2260 rows × 5 columns</p>\n",
              "</div>"
            ],
            "text/plain": [
              "                 Tweet ID  ...                                                    URL\n",
              "0     1296379540730572801  ...  http://twitter.com/anyuser/status/1296379540730572801\n",
              "1     1294871202893139969  ...  http://twitter.com/anyuser/status/1294871202893139969\n",
              "2     1265613003929587712  ...  http://twitter.com/anyuser/status/1265613003929587712\n",
              "3     1296369286257111041  ...  http://twitter.com/anyuser/status/1296369286257111041\n",
              "4     1295736719124307968  ...  http://twitter.com/anyuser/status/1295736719124307968\n",
              "...                   ...  ...                                                    ...\n",
              "2255  1305143438803832832  ...  http://twitter.com/anyuser/status/1305143438803832832\n",
              "2256  1305140858635780098  ...  http://twitter.com/anyuser/status/1305140858635780098\n",
              "2257  1305140858635780098  ...  http://twitter.com/anyuser/status/1305140858635780098\n",
              "2258  1305139885859250178  ...  http://twitter.com/anyuser/status/1305139885859250178\n",
              "2259  1305129618450477058  ...  http://twitter.com/anyuser/status/1305129618450477058\n",
              "\n",
              "[2260 rows x 5 columns]"
            ]
          },
          "execution_count": 9,
          "metadata": {
            "tags": []
          },
          "output_type": "execute_result"
        }
      ],
      "source": [
        "df = pd.read_csv(\"/gdrive/My Drive/Masters/Non Duplicate Rohit - Sheet1.csv\")\n",
        "df"
      ]
    },
    {
      "cell_type": "code",
      "execution_count": 11,
      "metadata": {
        "colab": {
          "base_uri": "https://localhost:8080/",
          "height": 272
        },
        "colab_type": "code",
        "id": "cf16s69uZqvD",
        "outputId": "1149e63c-54f4-43ea-958f-2a8feda9dbc3",
        "vscode": {
          "languageId": "python"
        }
      },
      "outputs": [
        {
          "data": {
            "text/plain": [
              "Emotionally Biased         853\n",
              "unverified source          728\n",
              "sarcastic nature           283\n",
              "supporting false claim     221\n",
              "sarcastic Nature           44 \n",
              "manipulated figures        33 \n",
              "Sarcastic Nature           29 \n",
              "personal gain              22 \n",
              "Manipulated Figures        17 \n",
              "Unverified source          11 \n",
              "manipulated Figures        8  \n",
              "supporting false claims    6  \n",
              "spreading hate             3  \n",
              "emotionally Biased         2  \n",
              "Name: Reason, dtype: int64"
            ]
          },
          "execution_count": 11,
          "metadata": {
            "tags": []
          },
          "output_type": "execute_result"
        }
      ],
      "source": [
        "df['Reason'].value_counts()"
      ]
    },
    {
      "cell_type": "code",
      "execution_count": 12,
      "metadata": {
        "colab": {
          "base_uri": "https://localhost:8080/",
          "height": 1000
        },
        "colab_type": "code",
        "id": "9XiCQWiaaSWe",
        "outputId": "f41900b7-0e2e-4945-8c62-754a035605f0",
        "vscode": {
          "languageId": "python"
        }
      },
      "outputs": [
        {
          "data": {
            "text/plain": [
              "<matplotlib.axes._subplots.AxesSubplot at 0x7f400bdd2b38>"
            ]
          },
          "execution_count": 12,
          "metadata": {
            "tags": []
          },
          "output_type": "execute_result"
        },
        {
          "data": {
            "image/png": "[encoded data removed]",
            "text/plain": [
              "<Figure size 1200x800 with 1 Axes>"
            ]
          },
          "metadata": {
            "needs_background": "light",
            "tags": []
          },
          "output_type": "display_data"
        }
      ],
      "source": [
        "plt.figure(dpi=200)\n",
        "df['Reason'].value_counts().plot(kind='bar')"
      ]
    },
    {
      "cell_type": "code",
      "execution_count": 13,
      "metadata": {
        "colab": {},
        "colab_type": "code",
        "id": "DY8bNBxVahFe",
        "vscode": {
          "languageId": "python"
        }
      },
      "outputs": [],
      "source": [
        "puncs           = [',', '|', '?', '-', ':', '_', '!', ';', '\"' ]\n",
        "all_words       = []\n",
        "not_stopwords   = []\n",
        "hashtags        = []\n",
        "user_mentions   = []\n",
        "num_sentences   = 0\n",
        "num_of_letters  = 0\n",
        "num_of_puncs    = 0\n",
        "\n",
        "\n",
        "\n",
        "\n",
        "for text in df['Tweet Text']:\n",
        "    text = text.split()\n",
        "    for word in text:\n",
        "        \n",
        "        all_words.append(word)\n",
        "\n",
        "        if word not in stopwords:\n",
        "            not_stopwords.append(word)\n",
        "        \n",
        "        if word[0] == '#':\n",
        "            hashtags.append(word)\n",
        "        \n",
        "        if word[0] == '@':\n",
        "            user_mentions.append(word)\n",
        "\n",
        "        \n",
        "\n",
        "        \n",
        "        for letter in word:\n",
        "\n",
        "            num_of_letters += 1\n",
        "\n",
        "            if letter in puncs:\n",
        "                num_of_puncs += 1\n",
        "            \n",
        "            if (letter == '|' or letter == '\\n'):\n",
        "                num_sentences += 1"
      ]
    },
    {
      "cell_type": "code",
      "execution_count": 14,
      "metadata": {
        "colab": {
          "base_uri": "https://localhost:8080/",
          "height": 136
        },
        "colab_type": "code",
        "id": "6e6Xkg2Qampe",
        "outputId": "7429ed22-9bce-498b-bfad-fcac2de6244a",
        "vscode": {
          "languageId": "python"
        }
      },
      "outputs": [
        {
          "name": "stdout",
          "output_type": "stream",
          "text": [
            "The total number of words in the Corups are:            59902\n",
            "The total number of non stopwords in the corpus are:    39487\n",
            "The total number of sentences in the Corups are:        69\n",
            "The total number of letters in the Corups are:          251949\n",
            "The total number of punctuations in the Corups are:     4314\n",
            "The total number of hashtags in the Corups are:         991\n",
            "The total number of user mentions in the Corups are:    636\n"
          ]
        }
      ],
      "source": [
        "print(\"The total number of words in the Corups are:           \",len(all_words))\n",
        "print(\"The total number of non stopwords in the corpus are:   \", len(not_stopwords)) \n",
        "print(\"The total number of sentences in the Corups are:       \",num_sentences)\n",
        "print(\"The total number of letters in the Corups are:         \",num_of_letters)\n",
        "print(\"The total number of punctuations in the Corups are:    \",num_of_puncs)\n",
        "print(\"The total number of hashtags in the Corups are:        \",len(hashtags))\n",
        "print(\"The total number of user mentions in the Corups are:   \",len(user_mentions))"
      ]
    },
    {
      "cell_type": "code",
      "execution_count": 15,
      "metadata": {
        "colab": {
          "base_uri": "https://localhost:8080/",
          "height": 136
        },
        "colab_type": "code",
        "id": "e39y8Xa0api_",
        "outputId": "27a59452-06b3-4e64-e052-41ae01bc2726",
        "vscode": {
          "languageId": "python"
        }
      },
      "outputs": [
        {
          "name": "stdout",
          "output_type": "stream",
          "text": [
            "The average number of words in a tweet are:            26.505309734513276\n",
            "The average number of non stopwords in a tweet are:    17.47212389380531\n",
            "The average number of sentences in a tweet are:        0.030530973451327433\n",
            "The average number of letters in a tweet are:          111.48185840707964\n",
            "The average number of punctuations in a tweet are:     1.9088495575221238\n",
            "The average number of hashtags in a tweet are:         0.43849557522123894\n",
            "The average number of user mentions in a tweet are:    0.2814159292035398\n"
          ]
        }
      ],
      "source": [
        "print(\"The average number of words in a tweet are:           \",len(all_words)/len(df))\n",
        "print(\"The average number of non stopwords in a tweet are:   \", len(not_stopwords)/len(df)) \n",
        "print(\"The average number of sentences in a tweet are:       \",num_sentences/len(df))\n",
        "print(\"The average number of letters in a tweet are:         \",num_of_letters/len(df))\n",
        "print(\"The average number of punctuations in a tweet are:    \",num_of_puncs/len(df))\n",
        "print(\"The average number of hashtags in a tweet are:        \",len(hashtags)/len(df))\n",
        "print(\"The average number of user mentions in a tweet are:   \",len(user_mentions)/len(df))"
      ]
    },
    {
      "cell_type": "code",
      "execution_count": 16,
      "metadata": {
        "colab": {
          "base_uri": "https://localhost:8080/",
          "height": 88
        },
        "colab_type": "code",
        "id": "73Bb7VPtasnT",
        "outputId": "678c44b2-c8db-4ce8-f1d8-cc83de2f68f0",
        "vscode": {
          "languageId": "python"
        }
      },
      "outputs": [
        {
          "name": "stdout",
          "output_type": "stream",
          "text": [
            "The top 10 most frequent words are:      [('के', 1841), ('नहीं', 506), ('है।', 295), ('देश', 194), ('जी', 192), ('वायरल', 176), ('नही', 172), ('सरकार', 164), ('मोदी', 158), ('भारत', 150)]\n",
            "The top 10 most frequent hashtags are:   [('#FakeNews', 51), ('#सर्वप्रिय_योगीजी', 27), ('#BOOMFactCheck', 23), ('#FactCheck', 21), ('#CBIForPalgharLynching', 15), ('#CBIForPalghar', 11), ('#राहुल_गांधी_मजदूरों_के_साथ', 10), ('#आमचीमुंबई', 10), ('#विकास_गायब_है', 10), ('#कोरोना', 9)]\n",
            "The top 10 frequent user mentions are:   [('@_Pb_swain_:', 55), ('@KanganaTeam', 25), ('@RahulGandhi', 22), ('@sambitswaraj', 19), ('@narendramodi', 14), ('@INCIndia', 10), ('@myogiadityanath', 8), ('@DrRPNishank', 8), ('@BJP4India', 7), ('@Poojameena110:', 7)]\n"
          ]
        }
      ],
      "source": [
        "top_words    = Counter(not_stopwords)\n",
        "top_hashtags = Counter(hashtags)\n",
        "top_users    = Counter(user_mentions)\n",
        "\n",
        "print(\"The top 10 most frequent words are:     \",top_words.most_common(10))\n",
        "print(\"The top 10 most frequent hashtags are:  \",top_hashtags.most_common(10))\n",
        "print(\"The top 10 frequent user mentions are:  \",top_users.most_common(10))"
      ]
    }
  ],
  "metadata": {
    "colab": {
      "authorship_tag": "ABX9TyPOMLrep1AhVg32268EH8k9",
      "include_colab_link": true,
      "name": "TwitterFakeAnalysis.ipynb",
      "provenance": []
    },
    "kernelspec": {
      "display_name": "Python 3",
      "name": "python3"
    }
  },
  "nbformat": 4,
  "nbformat_minor": 0
}
