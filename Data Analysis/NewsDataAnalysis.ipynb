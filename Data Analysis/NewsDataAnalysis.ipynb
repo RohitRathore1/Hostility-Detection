{
  "nbformat": 4,
  "nbformat_minor": 0,
  "metadata": {
    "colab": {
      "name": "NewsDataAnalysis.ipynb",
      "provenance": [],
      "authorship_tag": "ABX9TyOIji20ct+UkM7C6Z4QRBOo",
      "include_colab_link": true
    },
    "kernelspec": {
      "name": "python3",
      "display_name": "Python 3"
    }
  },
  "cells": [
    {
      "cell_type": "markdown",
      "metadata": {
        "id": "view-in-github",
        "colab_type": "text"
      },
      "source": [
        "<a href=\"https://colab.research.google.com/github/TeAmP0is0N/Fake-News-Hindi/blob/master/Data%20Analysis/NewsDataAnalysis.ipynb\" target=\"_parent\"><img src=\"https://colab.research.google.com/assets/colab-badge.svg\" alt=\"Open In Colab\"/></a>"
      ]
    },
    {
      "cell_type": "code",
      "metadata": {
        "id": "4IPDRloCTdyu",
        "colab_type": "code",
        "colab": {
          "base_uri": "https://localhost:8080/",
          "height": 34
        },
        "outputId": "cb42590a-d28f-4d2e-bc49-9924116854e2"
      },
      "source": [
        "from google.colab import drive\n",
        "drive.mount('/gdrive')"
      ],
      "execution_count": 1,
      "outputs": [
        {
          "output_type": "stream",
          "text": [
            "Mounted at /gdrive\n"
          ],
          "name": "stdout"
        }
      ]
    },
    {
      "cell_type": "code",
      "metadata": {
        "id": "I1Ys61PcTh-P",
        "colab_type": "code",
        "colab": {}
      },
      "source": [
        "import sys\n",
        "sys.path.append('/gdrive/My Drive/IIITD Fake News Project/Notebooks/Data Analysis')"
      ],
      "execution_count": 2,
      "outputs": []
    },
    {
      "cell_type": "code",
      "metadata": {
        "id": "5UI1SuHQT3f9",
        "colab_type": "code",
        "colab": {}
      },
      "source": [
        "import re\n",
        "import tweepy\n",
        "import difflib\n",
        "import pandas as pd\n",
        "import numpy as np\n",
        "import pickle\n",
        "import time\n",
        "import copy\n",
        "import matplotlib.pyplot as plt\n",
        "from datetime import date\n",
        "from collections import Counter "
      ],
      "execution_count": 3,
      "outputs": []
    },
    {
      "cell_type": "code",
      "metadata": {
        "id": "IPeFJqvQViDe",
        "colab_type": "code",
        "colab": {}
      },
      "source": [
        "####input your credentials here\n",
        "access_token = \"103589925-PYiNRi6sAoSAFCau7Q5zDAqF7Kt8WwsK5EunWL3I\"\n",
        "access_token_secret = \"u8N1nS93eN5npmtBOAxCwJgZE0W4wPCNe1CEuCB9lEIys\"\n",
        "consumer_key = \"IIFBxSZv8YnhRJuvvDJVkR4ht\"\n",
        "consumer_secret = \"zou3XOVMDXp9esingDNEowUeEPmTKkY4daZGYdmalovyd9JCxr\""
      ],
      "execution_count": 4,
      "outputs": []
    },
    {
      "cell_type": "code",
      "metadata": {
        "id": "NuTUWkqVVk7z",
        "colab_type": "code",
        "colab": {}
      },
      "source": [
        "auth = tweepy.OAuthHandler(consumer_key, consumer_secret)\n",
        "auth.set_access_token(access_token, access_token_secret)\n",
        "api = tweepy.API(auth,wait_on_rate_limit=True)"
      ],
      "execution_count": 5,
      "outputs": []
    },
    {
      "cell_type": "code",
      "metadata": {
        "id": "TfcaEOz9Vm4L",
        "colab_type": "code",
        "colab": {}
      },
      "source": [
        "pd.options.display.max_colwidth = 0"
      ],
      "execution_count": 6,
      "outputs": []
    },
    {
      "cell_type": "code",
      "metadata": {
        "id": "Co_Yn-DvVqVl",
        "colab_type": "code",
        "colab": {
          "base_uri": "https://localhost:8080/",
          "height": 71
        },
        "outputId": "5c0df165-0573-4214-a31e-b1a81aae6f53"
      },
      "source": [
        "### List of Hindi Stopwords\n",
        "\n",
        "stopwords = []\n",
        "\n",
        "file = open(\"/gdrive/My Drive/IIITD Fake News Project/Notebooks/Data Analysis/final_stopwords.txt\", 'r')\n",
        "for word in file:\n",
        "    word = word.split(\"\\n\")[0]\n",
        "    stopwords.append(word)\n",
        "\n",
        "print(\"Total number of stopwords in Hindi are: \",len(stopwords))\n",
        "print(stopwords)"
      ],
      "execution_count": 7,
      "outputs": [
        {
          "output_type": "stream",
          "text": [
            "Total number of stopwords in Hindi are:  264\n",
            "['मैं', 'मुझको', 'मेरा', 'अपने आप को', 'हमने', 'हमारा', 'अपना', 'हम', 'आप', 'आपका', 'तुम्हारा', 'अपने आप', 'स्वयं', 'वह', 'इसे', 'उसके', 'खुद को', 'कि वह', 'उसकी', 'उसका', 'खुद ही', 'यह', 'इसके', 'उन्होने', 'अपने', 'क्या', 'जो', 'किसे', 'किसको', 'कि', 'ये', 'हूँ', 'होता है', 'रहे', 'थी', 'थे', 'होना', 'गया', 'किया जा रहा है', 'किया है', 'है', 'पडा', 'होने', 'करना', 'करता है', 'किया', 'रही', 'एक', 'लेकिन', 'अगर', 'या', 'क्यूंकि', 'जैसा', 'जब तक', 'जबकि', 'की', 'पर', 'द्वारा', 'के लिए', 'साथ', 'के बारे में', 'खिलाफ', 'बीच', 'में', 'के माध्यम से', 'दौरान', 'से पहले', 'के बाद', 'ऊपर', 'नीचे', 'को', 'से', 'तक', 'से नीचे', 'करने में', 'निकल', 'बंद', 'से अधिक', 'तहत', 'दुबारा', 'आगे', 'फिर', 'एक बार', 'यहाँ', 'वहाँ', 'कब', 'कहाँ', 'क्यों', 'कैसे', 'सारे', 'किसी', 'दोनो', 'प्रत्येक', 'ज्यादा', 'अधिकांश', 'अन्य', 'में कुछ', 'ऐसा', 'में कोई', 'मात्र', 'खुद', 'समान', 'इसलिए', 'बहुत', 'सकता', 'जायेंगे', 'जरा', 'चाहिए', 'अभी', 'और', 'कर दिया', 'रखें', 'का', 'हैं', 'इस', 'होता', 'करने', 'ने', 'बनी', 'तो', 'ही', 'हो', 'इसका', 'था', 'हुआ', 'वाले', 'बाद', 'लिए', 'सकते', 'इसमें', 'दो', 'वे', 'करते', 'कहा', 'वर्ग', 'कई', 'करें', 'होती', 'अपनी', 'उनके', 'यदि', 'हुई', 'जा', 'कहते', 'जब', 'होते', 'कोई', 'हुए', 'व', 'जैसे', 'सभी', 'करता', 'उनकी', 'तरह', 'उस', 'आदि', 'इसकी', 'उनका', 'इसी', 'पे', 'तथा', 'भी', 'परंतु', 'इन', 'कम', 'दूर', 'पूरे', 'गये', 'तुम', 'मै', 'यहां', 'हुये', 'कभी', 'अथवा', 'गयी', 'प्रति', 'जाता', 'इन्हें', 'गई', 'अब', 'जिसमें', 'लिया', 'बड़ा', 'जाती', 'तब', 'उसे', 'जाते', 'लेकर', 'बड़े', 'दूसरे', 'जाने', 'बाहर', 'स्थान', 'उन्हें ', 'गए', 'ऐसे', 'जिससे', 'समय', 'दोनों', 'किए', 'रहती', 'इनके', 'इनका', 'इनकी', 'सकती', 'आज', 'कल', 'जिन्हें', 'जिन्हों', 'तिन्हें', 'तिन्हों', 'किन्हों', 'किन्हें', 'इत्यादि', 'इन्हों', 'उन्हों', 'बिलकुल', 'निहायत', 'इन्हीं', 'उन्हीं', 'जितना', 'दूसरा', 'कितना', 'साबुत', 'वग़ैरह', 'कौनसा', 'लिये', 'दिया', 'जिसे', 'तिसे', 'काफ़ी', 'पहले', 'बाला', 'मानो', 'अंदर', 'भीतर', 'पूरा', 'सारा', 'उनको', 'वहीं', 'जहाँ', 'जीधर', '\\ufeffके', 'एवं', 'कुछ', 'कुल', 'रहा', 'जिस', 'जिन', 'तिस', 'तिन', 'कौन', 'किस', 'संग', 'यही', 'बही', 'उसी', 'मगर', 'कर', 'मे', 'एस', 'उन', 'सो', 'अत']\n"
          ],
          "name": "stdout"
        }
      ]
    },
    {
      "cell_type": "code",
      "metadata": {
        "id": "JzVbMOnhVxyF",
        "colab_type": "code",
        "colab": {
          "base_uri": "https://localhost:8080/",
          "height": 1000
        },
        "outputId": "e5b25efd-0512-4f12-99d7-b3d97634e332"
      },
      "source": [
        "df = pd.read_csv(\"/gdrive/My Drive/IIITD Fake News Project/Data Set/Manual Annotations/Boomlive Manual Annotation.xlsx - Sheet1.csv\")\n",
        "df.drop(df.columns[[7,8,9,10,11,12,13,14,15,16]], axis = 1, inplace = True)\n",
        "df"
      ],
      "execution_count": 8,
      "outputs": [
        {
          "output_type": "execute_result",
          "data": {
            "text/html": [
              "<div>\n",
              "<style scoped>\n",
              "    .dataframe tbody tr th:only-of-type {\n",
              "        vertical-align: middle;\n",
              "    }\n",
              "\n",
              "    .dataframe tbody tr th {\n",
              "        vertical-align: top;\n",
              "    }\n",
              "\n",
              "    .dataframe thead th {\n",
              "        text-align: right;\n",
              "    }\n",
              "</style>\n",
              "<table border=\"1\" class=\"dataframe\">\n",
              "  <thead>\n",
              "    <tr style=\"text-align: right;\">\n",
              "      <th></th>\n",
              "      <th>Article Link</th>\n",
              "      <th>Title</th>\n",
              "      <th>Content</th>\n",
              "      <th>Source</th>\n",
              "      <th>Domain</th>\n",
              "      <th>Date</th>\n",
              "      <th>Category</th>\n",
              "    </tr>\n",
              "  </thead>\n",
              "  <tbody>\n",
              "    <tr>\n",
              "      <th>0</th>\n",
              "      <td>https://hindi.boomlive.in/fake-news/facebook-posts-claiming-pm-wore-footwear-during-bhumi-pujan-are-false-9222</td>\n",
              "      <td>नहीं, भूमि पूजन के दौरान प्रधानमंत्री नरेंद्र मोदी ने चप्पल नहीं पहन...</td>\n",
              "      <td>चप्पल पहनकर भूमि पूजन, आखिर कितनी धज्जियां उड़ाओगे हिंदू धर्म की ! पैरों में चप्पल पहनकर कोई भूमि पूजन होता है क्या?\\nये किस मानसिकता के भक्त है मित्रो | चप्पल जूता पहनकर भूमि पूजनवाह👌मोदी हे तो मुमकिन हैं नकली राम भक्त</td>\n",
              "      <td>Miscellaneous</td>\n",
              "      <td>https://hindi.boomlive.in/fake-news/</td>\n",
              "      <td>8 August 2020 4:46 PM</td>\n",
              "      <td>Politics</td>\n",
              "    </tr>\n",
              "    <tr>\n",
              "      <th>1</th>\n",
              "      <td>https://hindi.boomlive.in/fake-news/delhis-killer-doctors-story-viral-with-fake-covid-19-twist-9188</td>\n",
              "      <td>दिल्ली के हत्यारे डॉक्टर की कहानी फ़र्ज़ी कोविड-19 कोण के साथ वायरल</td>\n",
              "      <td>स्वस्थ आदमी को कोरोना पेशेंट बता कर अब तक 125 लोगो का किडनी निकाल कर हत्या करने वाला डॉ देवेन्द्र शर्मा गिरफ्तार\\nऐसे ना जाने कितने डॉ हमारे आपके बीच मे है जिससे हमलोगो को सतर्क रहना होगा और अपने लोगो का ख्याल रखना होगा | किसी भी स्वस्थ इन्शान की कोरोना से मौत होती है तो डॉ द्वरा लपेटे हुवे बॉडी को दूर से ही सही पर चैक जरूर करे |</td>\n",
              "      <td>Miscellaneous</td>\n",
              "      <td>https://hindi.boomlive.in/fake-news/</td>\n",
              "      <td>6 Aug 2020 3:31 PM</td>\n",
              "      <td>Crime</td>\n",
              "    </tr>\n",
              "    <tr>\n",
              "      <th>2</th>\n",
              "      <td>https://hindi.boomlive.in/fake-news/video-from-hyderabad-temple-viral-with-ram-mandir-bhumi-pujan-twist-9178</td>\n",
              "      <td>हैदराबाद के मंदिर का वीडियो राम मंदिर अयोध्या के नाम पर हो रहा वायरल</td>\n",
              "      <td>यह वीडियो अयोध्या में राम मंदिर के भूमि पूजन की तैयारी दिखाता है\\n\\n</td>\n",
              "      <td>Miscellaneous</td>\n",
              "      <td>https://hindi.boomlive.in/fake-news/</td>\n",
              "      <td>5 Aug 2020 7:13 PM</td>\n",
              "      <td>Politics</td>\n",
              "    </tr>\n",
              "    <tr>\n",
              "      <th>3</th>\n",
              "      <td>https://hindi.boomlive.in/fake-news/2018-images-of-alleged-kidney-theft-in-up-revived-with-covid-19-spin-9176</td>\n",
              "      <td>कथित किडनी चोरी की दो साल पुरानी तस्वीरें कोविड-19 से जोड़कर की जा रही...</td>\n",
              "      <td>मोदीजी @narendramodiकोरोना काल मे डॉक्टर को महान योद्धाओ के रूप मे बोल रहे थे,किन्तु उत्तर प्रदेश के मुजफ्फरनगर मे गर्ग हास्पीटल का एक डाक्टर कोरोना मरीज से गुर्दे निकाल कर बेचने का प्रयास करता पकड़ा गया। #मानवता खत्म हो गयी है डॉ के पेशे को कलंकित कर दिया । @myogiadityanath</td>\n",
              "      <td>Facebook</td>\n",
              "      <td>https://hindi.boomlive.in/fake-news/</td>\n",
              "      <td>5 Aug 2020 5:11 PM</td>\n",
              "      <td>COVID related</td>\n",
              "    </tr>\n",
              "    <tr>\n",
              "      <th>4</th>\n",
              "      <td>https://hindi.boomlive.in/fake-news/former-cji-ranjan-gogoi-denies-reports-of-testing-positive-for-covid-19-91755</td>\n",
              "      <td>पूर्व CJI रंजन गोगोई Corona Positive, Ram Mandir के पक्ष में सुनाया था ऐतिहासिक फैसला</td>\n",
              "      <td>देश के पूर्व CJI रंजन गोगोई हुए Corona पॉजिटिव\\n\\nGaya 24x7 देश में कोरोनावायरस के मामले काफी तेजी से बढ़ रहे हैं. इसी कड़ी में भारत के पूर्व चीफ जस्टिस रंजन गोगोई भी कोरोना संक्रमित हो गए हैं. बता दें कि नंवबर 2019 में रंजन गोगोई की अध्यक्षता वाली बेंच ने ही राम मंदिर केस का फैसला सुनाया था.</td>\n",
              "      <td>Facebook</td>\n",
              "      <td>https://hindi.boomlive.in/fake-news/</td>\n",
              "      <td>5 Aug 2020 4:41 PM</td>\n",
              "      <td>COVID related</td>\n",
              "    </tr>\n",
              "    <tr>\n",
              "      <th>...</th>\n",
              "      <td>...</td>\n",
              "      <td>...</td>\n",
              "      <td>...</td>\n",
              "      <td>...</td>\n",
              "      <td>...</td>\n",
              "      <td>...</td>\n",
              "      <td>...</td>\n",
              "    </tr>\n",
              "    <tr>\n",
              "      <th>917</th>\n",
              "      <td>https://hindi.boomlive.in/fake-news/old-mock-funeral-video-falsely-linked-to-amit-shah-getting-covid-19-9287</td>\n",
              "      <td>प्रदर्शन के पुराने वीडियो को अमित शाह के कोविड-19 संक्रमण से जोड़कर...</td>\n",
              "      <td>इनकी मानसिकता देखिए अमित शाह जी के कोरोना संक्रमित होने पर उनकी शवयात्रा निकाल के खुशी मना रहे है..' |\\n\\n</td>\n",
              "      <td>Miscellaneous</td>\n",
              "      <td>https://hindi.boomlive.in/fake-news/</td>\n",
              "      <td>13 Aug 2020 5:50 PM</td>\n",
              "      <td>Politics</td>\n",
              "    </tr>\n",
              "    <tr>\n",
              "      <th>918</th>\n",
              "      <td>https://hindi.boomlive.in/fake-news/video-of-men-uprooting-saplings-in-pakistan-viral-with-islamophobic-claim-9273</td>\n",
              "      <td>पाकिस्तान में पौधे उखाड़ते लोगों का वीडियो 'इस्लामोफ़ोबिक' दावों के साथ...</td>\n",
              "      <td>इमरान खान ने प्रधानमंत्री श्री मोदी की ट्री प्लांटेशन ड्राइव की नक़ल पाकिस्तान में की पर उनके फॉलोवर्स ने पेड़ उखाड़ दिए क्योंकि वो सोचते हैं की पौधारोपण इस्लाम के ख़िलाफ है' |\\n\\n</td>\n",
              "      <td>Miscellaneous</td>\n",
              "      <td>https://hindi.boomlive.in/fake-news/</td>\n",
              "      <td>12 Aug 2020 7:05 PM</td>\n",
              "      <td>Politics</td>\n",
              "    </tr>\n",
              "    <tr>\n",
              "      <th>919</th>\n",
              "      <td>https://hindi.boomlive.in/fake-news/no-this-is-not-the-blueprint-of-the-babri-hospital-9244</td>\n",
              "      <td>नहीं, यह बाबरी हॉस्पिटल का 'ब्लू प्रिंट' नहीं है</td>\n",
              "      <td>तस्वीर बाबरी हॉस्पिटल का ब्लू प्रिंट दिखाती है\\n\\n</td>\n",
              "      <td>Facebook</td>\n",
              "      <td>https://hindi.boomlive.in/fake-news/</td>\n",
              "      <td>10 Aug 2020 8:15 PM</td>\n",
              "      <td>Politics</td>\n",
              "    </tr>\n",
              "    <tr>\n",
              "      <th>920</th>\n",
              "      <td>https://hindi.boomlive.in/fake-news/did-historian-rana-safvi-claim-mughals-gave-birth-to-rakshabandhan-9240</td>\n",
              "      <td>क्या इतिहासकार राना सफ़वी ने अपने लेख में कहा है कि रक्षाबंधन मुग़लों ने ...</td>\n",
              "      <td>इतिहासकार राना सफ़वी ने कहा की राखी मुग़लों ने इज़ाद की है |\\n\\n</td>\n",
              "      <td>Miscellaneous</td>\n",
              "      <td>https://hindi.boomlive.in/fake-news/</td>\n",
              "      <td>10 Aug 2020 8:00 PM</td>\n",
              "      <td>Politics</td>\n",
              "    </tr>\n",
              "    <tr>\n",
              "      <th>921</th>\n",
              "      <td>https://hindi.boomlive.in/fake-news/did-uk-pm-boris-johnson-perform-ram-abhishek-to-mark-bhumi-pujan-9495</td>\n",
              "      <td>क्या ब्रिटेन के प्रधानमंत्री बोरिस जॉनसन ने भूमि पूजन के समर्थन में...</td>\n",
              "      <td>मैं भारतीय संस्कृति का बहुत बड़ा प्रशंसक हूँ इसलिए मैंने हमारी गृह मंत्री के साथ अपने निवास पर 5 अगस्त को श्री राम अभिषेक किया\\n\\n</td>\n",
              "      <td>Miscellaneous</td>\n",
              "      <td>https://hindi.boomlive.in/fake-news/</td>\n",
              "      <td>9 Aug 2020 1:12 PM</td>\n",
              "      <td>Politics</td>\n",
              "    </tr>\n",
              "  </tbody>\n",
              "</table>\n",
              "<p>922 rows × 7 columns</p>\n",
              "</div>"
            ],
            "text/plain": [
              "                                                                                                           Article Link  ...       Category\n",
              "0    https://hindi.boomlive.in/fake-news/facebook-posts-claiming-pm-wore-footwear-during-bhumi-pujan-are-false-9222      ...  Politics     \n",
              "1    https://hindi.boomlive.in/fake-news/delhis-killer-doctors-story-viral-with-fake-covid-19-twist-9188                 ...  Crime        \n",
              "2    https://hindi.boomlive.in/fake-news/video-from-hyderabad-temple-viral-with-ram-mandir-bhumi-pujan-twist-9178        ...  Politics     \n",
              "3    https://hindi.boomlive.in/fake-news/2018-images-of-alleged-kidney-theft-in-up-revived-with-covid-19-spin-9176       ...  COVID related\n",
              "4    https://hindi.boomlive.in/fake-news/former-cji-ranjan-gogoi-denies-reports-of-testing-positive-for-covid-19-91755   ...  COVID related\n",
              "..                                                                                                                 ...   ...            ...\n",
              "917  https://hindi.boomlive.in/fake-news/old-mock-funeral-video-falsely-linked-to-amit-shah-getting-covid-19-9287        ...  Politics     \n",
              "918  https://hindi.boomlive.in/fake-news/video-of-men-uprooting-saplings-in-pakistan-viral-with-islamophobic-claim-9273  ...  Politics     \n",
              "919  https://hindi.boomlive.in/fake-news/no-this-is-not-the-blueprint-of-the-babri-hospital-9244                         ...  Politics     \n",
              "920  https://hindi.boomlive.in/fake-news/did-historian-rana-safvi-claim-mughals-gave-birth-to-rakshabandhan-9240         ...  Politics     \n",
              "921  https://hindi.boomlive.in/fake-news/did-uk-pm-boris-johnson-perform-ram-abhishek-to-mark-bhumi-pujan-9495           ...  Politics     \n",
              "\n",
              "[922 rows x 7 columns]"
            ]
          },
          "metadata": {
            "tags": []
          },
          "execution_count": 8
        }
      ]
    },
    {
      "cell_type": "code",
      "metadata": {
        "id": "jGWZKlcoWFnl",
        "colab_type": "code",
        "colab": {
          "base_uri": "https://localhost:8080/",
          "height": 289
        },
        "outputId": "562a8337-475c-4e5c-82c9-ed3f0432f34e"
      },
      "source": [
        "df['Category'].value_counts()"
      ],
      "execution_count": 9,
      "outputs": [
        {
          "output_type": "execute_result",
          "data": {
            "text/plain": [
              "Politics         327\n",
              "Crime            193\n",
              "Miscellaneous    159\n",
              "COVID related    89 \n",
              "Entertainment    61 \n",
              "Education        17 \n",
              "Technology       17 \n",
              "Health           11 \n",
              "Sports           10 \n",
              "Lifestyle        10 \n",
              "miscellaneous    8  \n",
              "politics         8  \n",
              "Finance          5  \n",
              "Editorial        4  \n",
              "crime            3  \n",
              "Name: Category, dtype: int64"
            ]
          },
          "metadata": {
            "tags": []
          },
          "execution_count": 9
        }
      ]
    },
    {
      "cell_type": "code",
      "metadata": {
        "id": "wufFnXxMWI_2",
        "colab_type": "code",
        "colab": {
          "base_uri": "https://localhost:8080/",
          "height": 897
        },
        "outputId": "2eb8f75b-513b-4ca1-e47e-c695f1386f7d"
      },
      "source": [
        "plt.figure(dpi=200)\n",
        "df['Category'].value_counts().plot(kind='bar')"
      ],
      "execution_count": 10,
      "outputs": [
        {
          "output_type": "execute_result",
          "data": {
            "text/plain": [
              "<matplotlib.axes._subplots.AxesSubplot at 0x7f5d1d23f710>"
            ]
          },
          "metadata": {
            "tags": []
          },
          "execution_count": 10
        },
        {
          "output_type": "display_data",
          "data": {
            "image/png": "[encoded data removed]",
            "text/plain": [
              "<Figure size 1200x800 with 1 Axes>"
            ]
          },
          "metadata": {
            "tags": [],
            "needs_background": "light"
          }
        }
      ]
    },
    {
      "cell_type": "code",
      "metadata": {
        "id": "OvFwVUp9WM-U",
        "colab_type": "code",
        "colab": {}
      },
      "source": [
        "puncs           = [',', '|', '?', '-', ':', '_', '!', ';', '\"' ]\n",
        "all_words       = []\n",
        "not_stopwords   = []\n",
        "hashtags        = []\n",
        "user_mentions   = []\n",
        "num_sentences   = 0\n",
        "num_of_letters  = 0\n",
        "num_of_puncs    = 0\n",
        "\n",
        "\n",
        "\n",
        "\n",
        "for text in df['Content']:\n",
        "    text = text.split()\n",
        "    for word in text:\n",
        "        \n",
        "        all_words.append(word)\n",
        "\n",
        "        if word not in stopwords:\n",
        "            not_stopwords.append(word)\n",
        "        \n",
        "        if word[0] == '#':\n",
        "            hashtags.append(word)\n",
        "        \n",
        "        if word[0] == '@':\n",
        "            user_mentions.append(word)\n",
        "\n",
        "        if (word == '|' or word == '\\n'):\n",
        "            num_sentences += 1\n",
        "\n",
        "        \n",
        "        for letter in word:\n",
        "\n",
        "            num_of_letters += 1\n",
        "\n",
        "            if letter in puncs:\n",
        "                num_of_puncs += 1"
      ],
      "execution_count": 11,
      "outputs": []
    },
    {
      "cell_type": "code",
      "metadata": {
        "id": "IJPV2d-PWRuE",
        "colab_type": "code",
        "colab": {
          "base_uri": "https://localhost:8080/",
          "height": 136
        },
        "outputId": "bf701ca1-fd9b-45b2-fb40-cc477167f2b6"
      },
      "source": [
        "print(\"The total number of words in the Corups are:           \",len(all_words))\n",
        "print(\"The total number of non stopwords in the Corpus are:   \", len(not_stopwords)) \n",
        "print(\"The total number of sentences in the Corups are:       \",num_sentences)\n",
        "print(\"The total number of letters in the Corups are:         \",num_of_letters)\n",
        "print(\"The total number of punctuations in the Corups are:    \",num_of_puncs)\n",
        "print(\"The total number of hashtags in the Corups are:        \",len(hashtags))\n",
        "print(\"The total number of user mentions in the Corups are:   \",len(user_mentions))"
      ],
      "execution_count": 12,
      "outputs": [
        {
          "output_type": "stream",
          "text": [
            "The total number of words in the Corups are:            35495\n",
            "The total number of non stopwords in the Corpus are:    22597\n",
            "The total number of sentences in the Corups are:        372\n",
            "The total number of letters in the Corups are:          140461\n",
            "The total number of punctuations in the Corups are:     1895\n",
            "The total number of hashtags in the Corups are:         151\n",
            "The total number of user mentions in the Corups are:    53\n"
          ],
          "name": "stdout"
        }
      ]
    },
    {
      "cell_type": "code",
      "metadata": {
        "id": "jiHT3MMTWZ7P",
        "colab_type": "code",
        "colab": {
          "base_uri": "https://localhost:8080/",
          "height": 136
        },
        "outputId": "e913522d-0e56-4d7d-e555-40d0b3caf2be"
      },
      "source": [
        "print(\"The average number of words in a tweet are:           \",len(all_words)/len(df))\n",
        "print(\"The average number of non stopwords in a tweet are:   \", len(not_stopwords)/len(df)) \n",
        "print(\"The average number of sentences in a tweet are:       \",num_sentences/len(df))\n",
        "print(\"The average number of letters in a tweet are:         \",num_of_letters/len(df))\n",
        "print(\"The average number of punctuations in a tweet are:    \",num_of_puncs/len(df))\n",
        "print(\"The average number of hashtags in a tweet are:        \",len(hashtags)/len(df))\n",
        "print(\"The average number of user mentions in a tweet are:   \",len(user_mentions)/len(df))"
      ],
      "execution_count": 13,
      "outputs": [
        {
          "output_type": "stream",
          "text": [
            "The average number of words in a tweet are:            38.49783080260303\n",
            "The average number of non stopwords in a tweet are:    24.508676789587852\n",
            "The average number of sentences in a tweet are:        0.403470715835141\n",
            "The average number of letters in a tweet are:          152.34381778741866\n",
            "The average number of punctuations in a tweet are:     2.0553145336225596\n",
            "The average number of hashtags in a tweet are:         0.16377440347071584\n",
            "The average number of user mentions in a tweet are:    0.057483731019522775\n"
          ],
          "name": "stdout"
        }
      ]
    },
    {
      "cell_type": "code",
      "metadata": {
        "id": "eGzPu0JOWeR-",
        "colab_type": "code",
        "colab": {
          "base_uri": "https://localhost:8080/",
          "height": 88
        },
        "outputId": "cd5ec4bb-aed7-4b9c-bb8a-3bcc6e7cd3e0"
      },
      "source": [
        "top_words    = Counter(not_stopwords)\n",
        "top_hashtags = Counter(hashtags)\n",
        "top_users    = Counter(user_mentions)\n",
        "\n",
        "print(\"The top 10 most frequent words are:     \",top_words.most_common(10))\n",
        "print(\"The top 10 most frequent hashtags are:  \",top_hashtags.most_common(10))\n",
        "print(\"The top 10 frequent user mentions are:  \",top_users.most_common(10))"
      ],
      "execution_count": 14,
      "outputs": [
        {
          "output_type": "stream",
          "text": [
            "The top 10 most frequent words are:      [('के', 1275), ('|', 372), ('नहीं', 244), ('है।', 241), ('।', 192), ('देश', 118), ('वीडियो', 113), ('मोदी', 110), ('है,', 110), ('भारत', 108)]\n",
            "The top 10 most frequent hashtags are:   [('#', 6), ('#राहुल_गांधी', 2), ('#मोदी', 2), ('#BJP', 2), ('#पाकिस्तान', 2), ('#पूजाशकुनपांडेय', 2), ('#मानवता', 1), ('#श्रीराम', 1), ('#आयोध्या', 1), ('#समय_बड़ा_बलवान', 1)]\n",
            "The top 10 frequent user mentions are:   [('@ArvindKejriwal', 3), ('@RahulGandhi', 2), ('@narendramodiकोरोना', 1), ('@myogiadityanath', 1), ('@nashikpolice', 1), ('@DrMohanBhagwat', 1), ('@Nation_is1st', 1), ('@DebojeetGoswami', 1), ('@brijeshsinghrc1', 1), ('@saxena2509', 1)]\n"
          ],
          "name": "stdout"
        }
      ]
    },
    {
      "cell_type": "code",
      "metadata": {
        "id": "cczrXOFSWhEO",
        "colab_type": "code",
        "colab": {}
      },
      "source": [
        ""
      ],
      "execution_count": null,
      "outputs": []
    }
  ]
}