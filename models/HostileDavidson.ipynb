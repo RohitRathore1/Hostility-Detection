{
 "cells": [
  {
   "cell_type": "code",
   "execution_count": 1,
   "metadata": {},
   "outputs": [
    {
     "name": "stdout",
     "output_type": "stream",
     "text": [
      "Collecting vaderSentiment\n",
      "  Downloading https://files.pythonhosted.org/packages/76/fc/310e16254683c1ed35eeb97386986d6c00bc29df17ce280aed64d55537e9/vaderSentiment-3.3.2-py2.py3-none-any.whl (125kB)\n",
      "Requirement already satisfied: requests in c:\\users\\teamp0is0n\\anaconda3\\lib\\site-packages (from vaderSentiment) (2.22.0)\n",
      "Requirement already satisfied: urllib3!=1.25.0,!=1.25.1,<1.26,>=1.21.1 in c:\\users\\teamp0is0n\\anaconda3\\lib\\site-packages (from requests->vaderSentiment) (1.24.2)\n",
      "Requirement already satisfied: chardet<3.1.0,>=3.0.2 in c:\\users\\teamp0is0n\\anaconda3\\lib\\site-packages (from requests->vaderSentiment) (3.0.4)\n",
      "Requirement already satisfied: idna<2.9,>=2.5 in c:\\users\\teamp0is0n\\anaconda3\\lib\\site-packages (from requests->vaderSentiment) (2.8)\n",
      "Requirement already satisfied: certifi>=2017.4.17 in c:\\users\\teamp0is0n\\anaconda3\\lib\\site-packages (from requests->vaderSentiment) (2019.9.11)\n",
      "Installing collected packages: vaderSentiment\n",
      "Successfully installed vaderSentiment-3.3.2\n",
      "Collecting textstat\n",
      "  Downloading https://files.pythonhosted.org/packages/60/af/0623a6e3adbcfda0be827664eacab5e02cd0a08d36f00013cb53784917a9/textstat-0.6.2-py3-none-any.whl (102kB)\n",
      "Collecting pyphen (from textstat)\n",
      "  Downloading https://files.pythonhosted.org/packages/7c/5a/5bc036e01389bc6a6667a932bac3e388de6e7fa5777a6ff50e652f60ec79/Pyphen-0.10.0-py3-none-any.whl (1.9MB)\n",
      "Installing collected packages: pyphen, textstat\n",
      "Successfully installed pyphen-0.10.0 textstat-0.6.2\n"
     ]
    }
   ],
   "source": [
    "!pip install vaderSentiment\n",
    "!pip install textstat"
   ]
  },
  {
   "cell_type": "code",
   "execution_count": 66,
   "metadata": {},
   "outputs": [
    {
     "name": "stderr",
     "output_type": "stream",
     "text": [
      "[nltk_data] Downloading package punkt to\n",
      "[nltk_data]     C:\\Users\\TeAmp0is0N\\AppData\\Roaming\\nltk_data...\n",
      "[nltk_data]   Package punkt is already up-to-date!\n"
     ]
    }
   ],
   "source": [
    "import pandas as pd\n",
    "import numpy as np\n",
    "import sys\n",
    "import pickle\n",
    "import warnings\n",
    "import string\n",
    "import re\n",
    "import nltk\n",
    "nltk.download('punkt')\n",
    "from nltk.stem.porter import *\n",
    "from sklearn.feature_extraction.text import TfidfVectorizer\n",
    "from vaderSentiment.vaderSentiment import SentimentIntensityAnalyzer as VS\n",
    "from sklearn.linear_model import LogisticRegression\n",
    "from sklearn.feature_selection import SelectFromModel\n",
    "from sklearn.metrics import classification_report\n",
    "from sklearn.svm import LinearSVC\n",
    "from textstat.textstat import *\n",
    "import matplotlib.pyplot as plt\n",
    "import seaborn\n",
    "%matplotlib inline"
   ]
  },
  {
   "cell_type": "code",
   "execution_count": 5,
   "metadata": {},
   "outputs": [
    {
     "name": "stdout",
     "output_type": "stream",
     "text": [
      "      Unique ID                                               Post  \\\n",
      "0           1.0  भारतीय सेना के जवानों ने हर बार चीन की कोशिशों...   \n",
      "1           2.0  खुद को कॉरॉना हुआ तो अब दिल्ली के अस्पताल सभी ...   \n",
      "2           3.0  कंगना रनौत का ऑफिस अगर अवैध रूप से बना है। तो ...   \n",
      "3           4.0  महाराष्ट्र सरकार ने कंगना को सुरक्षा मिलने पर ...   \n",
      "4           5.0  @KanganaTeeam घटिया ओरत आ गई ओकाद पे, हिन्दू म...   \n",
      "...         ...                                                ...   \n",
      "6546     6546.0  किसानों की दुगणी आय $$ वाला डाॅयलाॅग शायद यही ...   \n",
      "6547     6547.0                  जब सोनिया गाँधी एक बार डाँसर थी\\n   \n",
      "6548     6548.0  क्रेडिट कार्ड से लोन नहीं मिलने से नाराज छात्र...   \n",
      "6549     6549.0  सऊदी अरब सरकार ने अरबी में भगवद्गीता रिलीज की ...   \n",
      "6550     6550.0  एससीओ बैठक के लिए आज रूस जाएंगे राजनाथ, चीन से...   \n",
      "\n",
      "                          Labels Set  \n",
      "0                        non-hostile  \n",
      "1                               fake  \n",
      "2                               fake  \n",
      "3                        non-hostile  \n",
      "4     defamation,fake,hate,offensive  \n",
      "...                              ...  \n",
      "6546            defamation,offensive  \n",
      "6547                            fake  \n",
      "6548                     non-hostile  \n",
      "6549                            fake  \n",
      "6550                     non-hostile  \n",
      "\n",
      "[6551 rows x 3 columns]\n"
     ]
    }
   ],
   "source": [
    "df = pd.read_csv(\"train.csv\")\n",
    "print(df)"
   ]
  },
  {
   "cell_type": "code",
   "execution_count": 6,
   "metadata": {},
   "outputs": [
    {
     "data": {
      "text/html": [
       "<div>\n",
       "<style scoped>\n",
       "    .dataframe tbody tr th:only-of-type {\n",
       "        vertical-align: middle;\n",
       "    }\n",
       "\n",
       "    .dataframe tbody tr th {\n",
       "        vertical-align: top;\n",
       "    }\n",
       "\n",
       "    .dataframe thead th {\n",
       "        text-align: right;\n",
       "    }\n",
       "</style>\n",
       "<table border=\"1\" class=\"dataframe\">\n",
       "  <thead>\n",
       "    <tr style=\"text-align: right;\">\n",
       "      <th></th>\n",
       "      <th>Unique ID</th>\n",
       "      <th>Post</th>\n",
       "      <th>Labels Set</th>\n",
       "    </tr>\n",
       "  </thead>\n",
       "  <tbody>\n",
       "    <tr>\n",
       "      <td>0</td>\n",
       "      <td>1.0</td>\n",
       "      <td>भारतीय सेना के जवानों ने हर बार चीन की कोशिशों...</td>\n",
       "      <td>non-hostile</td>\n",
       "    </tr>\n",
       "    <tr>\n",
       "      <td>1</td>\n",
       "      <td>2.0</td>\n",
       "      <td>खुद को कॉरॉना हुआ तो अब दिल्ली के अस्पताल सभी ...</td>\n",
       "      <td>fake</td>\n",
       "    </tr>\n",
       "    <tr>\n",
       "      <td>2</td>\n",
       "      <td>3.0</td>\n",
       "      <td>कंगना रनौत का ऑफिस अगर अवैध रूप से बना है। तो ...</td>\n",
       "      <td>fake</td>\n",
       "    </tr>\n",
       "    <tr>\n",
       "      <td>3</td>\n",
       "      <td>4.0</td>\n",
       "      <td>महाराष्ट्र सरकार ने कंगना को सुरक्षा मिलने पर ...</td>\n",
       "      <td>non-hostile</td>\n",
       "    </tr>\n",
       "    <tr>\n",
       "      <td>4</td>\n",
       "      <td>5.0</td>\n",
       "      <td>@KanganaTeeam घटिया ओरत आ गई ओकाद पे, हिन्दू म...</td>\n",
       "      <td>defamation,fake,hate,offensive</td>\n",
       "    </tr>\n",
       "    <tr>\n",
       "      <td>...</td>\n",
       "      <td>...</td>\n",
       "      <td>...</td>\n",
       "      <td>...</td>\n",
       "    </tr>\n",
       "    <tr>\n",
       "      <td>6546</td>\n",
       "      <td>6546.0</td>\n",
       "      <td>किसानों की दुगणी आय $$ वाला डाॅयलाॅग शायद यही ...</td>\n",
       "      <td>defamation,offensive</td>\n",
       "    </tr>\n",
       "    <tr>\n",
       "      <td>6547</td>\n",
       "      <td>6547.0</td>\n",
       "      <td>जब सोनिया गाँधी एक बार डाँसर थी\\n</td>\n",
       "      <td>fake</td>\n",
       "    </tr>\n",
       "    <tr>\n",
       "      <td>6548</td>\n",
       "      <td>6548.0</td>\n",
       "      <td>क्रेडिट कार्ड से लोन नहीं मिलने से नाराज छात्र...</td>\n",
       "      <td>non-hostile</td>\n",
       "    </tr>\n",
       "    <tr>\n",
       "      <td>6549</td>\n",
       "      <td>6549.0</td>\n",
       "      <td>सऊदी अरब सरकार ने अरबी में भगवद्गीता रिलीज की ...</td>\n",
       "      <td>fake</td>\n",
       "    </tr>\n",
       "    <tr>\n",
       "      <td>6550</td>\n",
       "      <td>6550.0</td>\n",
       "      <td>एससीओ बैठक के लिए आज रूस जाएंगे राजनाथ, चीन से...</td>\n",
       "      <td>non-hostile</td>\n",
       "    </tr>\n",
       "  </tbody>\n",
       "</table>\n",
       "<p>6551 rows × 3 columns</p>\n",
       "</div>"
      ],
      "text/plain": [
       "      Unique ID                                               Post  \\\n",
       "0           1.0  भारतीय सेना के जवानों ने हर बार चीन की कोशिशों...   \n",
       "1           2.0  खुद को कॉरॉना हुआ तो अब दिल्ली के अस्पताल सभी ...   \n",
       "2           3.0  कंगना रनौत का ऑफिस अगर अवैध रूप से बना है। तो ...   \n",
       "3           4.0  महाराष्ट्र सरकार ने कंगना को सुरक्षा मिलने पर ...   \n",
       "4           5.0  @KanganaTeeam घटिया ओरत आ गई ओकाद पे, हिन्दू म...   \n",
       "...         ...                                                ...   \n",
       "6546     6546.0  किसानों की दुगणी आय $$ वाला डाॅयलाॅग शायद यही ...   \n",
       "6547     6547.0                  जब सोनिया गाँधी एक बार डाँसर थी\\n   \n",
       "6548     6548.0  क्रेडिट कार्ड से लोन नहीं मिलने से नाराज छात्र...   \n",
       "6549     6549.0  सऊदी अरब सरकार ने अरबी में भगवद्गीता रिलीज की ...   \n",
       "6550     6550.0  एससीओ बैठक के लिए आज रूस जाएंगे राजनाथ, चीन से...   \n",
       "\n",
       "                          Labels Set  \n",
       "0                        non-hostile  \n",
       "1                               fake  \n",
       "2                               fake  \n",
       "3                        non-hostile  \n",
       "4     defamation,fake,hate,offensive  \n",
       "...                              ...  \n",
       "6546            defamation,offensive  \n",
       "6547                            fake  \n",
       "6548                     non-hostile  \n",
       "6549                            fake  \n",
       "6550                     non-hostile  \n",
       "\n",
       "[6551 rows x 3 columns]"
      ]
     },
     "execution_count": 6,
     "metadata": {},
     "output_type": "execute_result"
    }
   ],
   "source": [
    "df"
   ]
  },
  {
   "cell_type": "code",
   "execution_count": 7,
   "metadata": {},
   "outputs": [
    {
     "data": {
      "text/html": [
       "<div>\n",
       "<style scoped>\n",
       "    .dataframe tbody tr th:only-of-type {\n",
       "        vertical-align: middle;\n",
       "    }\n",
       "\n",
       "    .dataframe tbody tr th {\n",
       "        vertical-align: top;\n",
       "    }\n",
       "\n",
       "    .dataframe thead th {\n",
       "        text-align: right;\n",
       "    }\n",
       "</style>\n",
       "<table border=\"1\" class=\"dataframe\">\n",
       "  <thead>\n",
       "    <tr style=\"text-align: right;\">\n",
       "      <th></th>\n",
       "      <th>Unique ID</th>\n",
       "    </tr>\n",
       "  </thead>\n",
       "  <tbody>\n",
       "    <tr>\n",
       "      <td>count</td>\n",
       "      <td>6550.000000</td>\n",
       "    </tr>\n",
       "    <tr>\n",
       "      <td>mean</td>\n",
       "      <td>3275.500000</td>\n",
       "    </tr>\n",
       "    <tr>\n",
       "      <td>std</td>\n",
       "      <td>1890.966464</td>\n",
       "    </tr>\n",
       "    <tr>\n",
       "      <td>min</td>\n",
       "      <td>1.000000</td>\n",
       "    </tr>\n",
       "    <tr>\n",
       "      <td>25%</td>\n",
       "      <td>1638.250000</td>\n",
       "    </tr>\n",
       "    <tr>\n",
       "      <td>50%</td>\n",
       "      <td>3275.500000</td>\n",
       "    </tr>\n",
       "    <tr>\n",
       "      <td>75%</td>\n",
       "      <td>4912.750000</td>\n",
       "    </tr>\n",
       "    <tr>\n",
       "      <td>max</td>\n",
       "      <td>6550.000000</td>\n",
       "    </tr>\n",
       "  </tbody>\n",
       "</table>\n",
       "</div>"
      ],
      "text/plain": [
       "         Unique ID\n",
       "count  6550.000000\n",
       "mean   3275.500000\n",
       "std    1890.966464\n",
       "min       1.000000\n",
       "25%    1638.250000\n",
       "50%    3275.500000\n",
       "75%    4912.750000\n",
       "max    6550.000000"
      ]
     },
     "execution_count": 7,
     "metadata": {},
     "output_type": "execute_result"
    }
   ],
   "source": [
    "df.describe()"
   ]
  },
  {
   "cell_type": "code",
   "execution_count": 8,
   "metadata": {},
   "outputs": [
    {
     "data": {
      "text/plain": [
       "Index(['Unique ID', 'Post', 'Labels Set'], dtype='object')"
      ]
     },
     "execution_count": 8,
     "metadata": {},
     "output_type": "execute_result"
    }
   ],
   "source": [
    "df.columns"
   ]
  },
  {
   "cell_type": "code",
   "execution_count": 14,
   "metadata": {},
   "outputs": [
    {
     "data": {
      "text/plain": [
       "<matplotlib.axes._subplots.AxesSubplot at 0x22618d90908>"
      ]
     },
     "execution_count": 14,
     "metadata": {},
     "output_type": "execute_result"
    },
    {
     "data": {
      "image/png": "[encoded data removed]",
      "text/plain": [
       "<Figure size 432x288 with 1 Axes>"
      ]
     },
     "metadata": {
      "needs_background": "light"
     },
     "output_type": "display_data"
    }
   ],
   "source": [
    "df['Labels Set'].hist()"
   ]
  },
  {
   "cell_type": "code",
   "execution_count": 18,
   "metadata": {},
   "outputs": [
    {
     "name": "stdout",
     "output_type": "stream",
     "text": [
      "0       भारतीय सेना के जवानों ने हर बार चीन की कोशिशों...\n",
      "1       खुद को कॉरॉना हुआ तो अब दिल्ली के अस्पताल सभी ...\n",
      "2       कंगना रनौत का ऑफिस अगर अवैध रूप से बना है। तो ...\n",
      "3       महाराष्ट्र सरकार ने कंगना को सुरक्षा मिलने पर ...\n",
      "4       @KanganaTeeam घटिया ओरत आ गई ओकाद पे, हिन्दू म...\n",
      "                              ...                        \n",
      "6546    किसानों की दुगणी आय $$ वाला डाॅयलाॅग शायद यही ...\n",
      "6547                    जब सोनिया गाँधी एक बार डाँसर थी\\n\n",
      "6548    क्रेडिट कार्ड से लोन नहीं मिलने से नाराज छात्र...\n",
      "6549    सऊदी अरब सरकार ने अरबी में भगवद्गीता रिलीज की ...\n",
      "6550    एससीओ बैठक के लिए आज रूस जाएंगे राजनाथ, चीन से...\n",
      "Name: Post, Length: 6551, dtype: object\n"
     ]
    }
   ],
   "source": [
    "posts = df.Post\n",
    "print(posts)"
   ]
  },
  {
   "cell_type": "code",
   "execution_count": 48,
   "metadata": {},
   "outputs": [],
   "source": [
    "def tokenize(Post):\n",
    "    \"\"\"Removes punctuation & excess whitespace, sets to lowercase,\n",
    "    and stems tweets. Returns a list of stemmed tokens.\"\"\"\n",
    "    Post = \" \".join(re.split(\"[^a-zA-Z]+\", Post.lower())).strip()\n",
    "    tokens = [stemmer.stem(t) for t in Post.split()]\n",
    "    return tokens\n",
    "\n",
    "def basic_tokenize(Post):\n",
    "    \"\"\"Same as tokenize but without the stemming\"\"\"\n",
    "    Post = \" \".join(re.split(\"[^a-zA-Z.,!?]+\", Post.lower())).strip()\n",
    "    return Post.split()\n",
    "\n",
    "vectorizer = TfidfVectorizer(\n",
    "    tokenizer=tokenize,\n",
    "    preprocessor=preprocess,\n",
    "    ngram_range=(1, 3),\n",
    "    use_idf=True,\n",
    "    smooth_idf=False,\n",
    "    norm=None,\n",
    "    decode_error='replace',\n",
    "    max_features=10000,\n",
    "    min_df=5,\n",
    "    max_df=0.75\n",
    "    )"
   ]
  },
  {
   "cell_type": "code",
   "execution_count": 49,
   "metadata": {},
   "outputs": [],
   "source": [
    "#Construct tfidf matrix and get relevant scores\n",
    "tfidf = vectorizer.fit_transform(posts).toarray()\n",
    "vocab = {v:i for i, v in enumerate(vectorizer.get_feature_names())}\n",
    "idf_vals = vectorizer.idf_\n",
    "idf_dict = {i:idf_vals[i] for i in vocab.values()} #keys are indices; values are IDF scores"
   ]
  },
  {
   "cell_type": "code",
   "execution_count": 51,
   "metadata": {},
   "outputs": [
    {
     "name": "stdout",
     "output_type": "stream",
     "text": [
      "{0: 7.3024663389438755, 1: 6.420077158745403, 2: 7.995613519503821, 3: 7.590148411395657, 4: 7.590148411395657, 5: 8.177935076297775, 6: 7.389477715933506, 7: 5.469884875195566, 8: 7.841462839676563, 9: 8.177935076297775, 10: 7.590148411395657, 11: 8.177935076297775, 12: 7.841462839676563, 13: 6.35338578424673, 14: 8.177935076297775, 15: 7.995613519503821, 16: 7.841462839676563, 17: 7.995613519503821, 18: 7.995613519503821, 19: 7.590148411395657, 20: 7.48478789573783, 21: 7.995613519503821, 22: 7.995613519503821, 23: 7.3024663389438755, 24: 7.3024663389438755, 25: 8.177935076297775, 26: 8.177935076297775, 27: 7.995613519503821, 28: 5.836129270150449, 29: 6.32163708593215, 30: 5.6129857188362395, 31: 8.177935076297775, 32: 6.95415964467566, 33: 7.389477715933506, 34: 6.0984935346179405, 35: 7.70793144705204, 36: 7.995613519503821, 37: 7.1483156591166175, 38: 7.995613519503821, 39: 7.3024663389438755, 40: 7.995613519503821, 41: 6.842934009565436, 42: 5.798388942167602, 43: 8.177935076297775, 44: 8.177935076297775, 45: 7.995613519503821, 46: 6.290865427265396, 47: 8.177935076297775, 48: 6.651878772802727, 49: 7.995613519503821, 50: 6.455168478556672, 51: 7.590148411395657, 52: 7.3024663389438755, 53: 7.70793144705204, 54: 7.995613519503821, 55: 5.937225387021818, 56: 7.70793144705204, 57: 7.995613519503821, 58: 5.042440860368626, 59: 7.995613519503821, 60: 7.995613519503821, 61: 7.995613519503821, 62: 7.995613519503821, 63: 7.48478789573783, 64: 8.177935076297775, 65: 8.177935076297775, 66: 8.177935076297775, 67: 6.386175607069721, 68: 7.48478789573783, 69: 8.177935076297775, 70: 7.841462839676563, 71: 7.995613519503821, 72: 8.177935076297775, 73: 7.841462839676563, 74: 7.222423631270339, 75: 7.70793144705204, 76: 7.222423631270339, 77: 8.177935076297775, 78: 7.389477715933506, 79: 8.177935076297775, 80: 8.177935076297775, 81: 7.995613519503821, 82: 7.995613519503821, 83: 7.389477715933506, 84: 7.841462839676563, 85: 7.48478789573783, 86: 7.995613519503821, 87: 8.177935076297775, 88: 8.177935076297775, 89: 7.222423631270339, 90: 8.177935076297775, 91: 8.177935076297775, 92: 8.177935076297775, 93: 7.222423631270339, 94: 8.177935076297775, 95: 8.177935076297775, 96: 5.709835544826157, 97: 8.177935076297775, 98: 7.48478789573783, 99: 7.590148411395657, 100: 7.841462839676563, 101: 7.995613519503821, 102: 8.177935076297775, 103: 8.177935076297775, 104: 7.841462839676563, 105: 6.420077158745403, 106: 7.389477715933506, 107: 7.70793144705204, 108: 7.995613519503821, 109: 7.48478789573783, 110: 6.95415964467566, 111: 6.420077158745403, 112: 7.841462839676563, 113: 8.177935076297775, 114: 7.48478789573783, 115: 6.049703370448508, 116: 8.177935076297775, 117: 7.841462839676563, 118: 5.538877746682517, 119: 6.261012464115715, 120: 7.70793144705204, 121: 7.841462839676563, 122: 7.841462839676563, 123: 7.590148411395657, 124: 7.841462839676563, 125: 7.70793144705204, 126: 6.897001230835712, 127: 8.177935076297775, 128: 7.841462839676563, 129: 5.780039803499405, 130: 8.177935076297775, 131: 7.841462839676563, 132: 8.177935076297775, 133: 7.70793144705204, 134: 7.841462839676563, 135: 7.995613519503821, 136: 7.590148411395657, 137: 7.48478789573783, 138: 6.149786829005491, 139: 7.1483156591166175, 140: 7.590148411395657, 141: 7.841462839676563, 142: 7.222423631270339, 143: 7.841462839676563, 144: 8.177935076297775, 145: 7.70793144705204, 146: 6.261012464115715, 147: 8.177935076297775, 148: 7.222423631270339, 149: 7.389477715933506, 150: 8.177935076297775, 151: 7.48478789573783, 152: 8.177935076297775, 153: 6.95415964467566, 154: 7.70793144705204, 155: 5.287563318401611, 156: 7.995613519503821, 157: 7.079322787629667, 158: 7.079322787629667, 159: 7.079322787629667, 160: 7.70793144705204, 161: 7.70793144705204, 162: 7.3024663389438755, 163: 7.389477715933506, 164: 7.3024663389438755, 165: 7.389477715933506, 166: 7.590148411395657, 167: 7.48478789573783, 168: 7.995613519503821, 169: 7.995613519503821, 170: 7.995613519503821, 171: 7.222423631270339, 172: 7.70793144705204, 173: 7.70793144705204, 174: 8.177935076297775, 175: 8.177935076297775, 176: 7.841462839676563, 177: 7.079322787629667, 178: 7.389477715933506, 179: 7.841462839676563, 180: 7.841462839676563, 181: 7.70793144705204, 182: 7.70793144705204, 183: 5.937225387021818, 184: 7.48478789573783, 185: 7.70793144705204, 186: 7.995613519503821, 187: 7.70793144705204, 188: 7.590148411395657, 189: 6.386175607069721, 190: 7.222423631270339, 191: 8.177935076297775, 192: 7.389477715933506, 193: 6.742850551008454, 194: 7.995613519503821, 195: 7.3024663389438755, 196: 7.70793144705204, 197: 7.841462839676563, 198: 7.079322787629667, 199: 8.177935076297775, 200: 7.70793144705204, 201: 7.70793144705204, 202: 7.3024663389438755, 203: 7.48478789573783, 204: 7.1483156591166175, 205: 7.70793144705204, 206: 7.841462839676563, 207: 7.995613519503821, 208: 7.70793144705204, 209: 5.567865283555769, 210: 6.95415964467566, 211: 6.897001230835712, 212: 5.276513482215027, 213: 7.70793144705204, 214: 7.222423631270339, 215: 8.177935076297775, 216: 8.177935076297775, 217: 7.590148411395657, 218: 5.3100361742536695, 219: 7.590148411395657, 220: 7.48478789573783, 221: 7.995613519503821, 222: 7.590148411395657, 223: 8.177935076297775, 224: 8.177935076297775, 225: 7.079322787629667, 226: 8.177935076297775, 227: 8.177935076297775, 228: 7.389477715933506, 229: 7.995613519503821, 230: 7.590148411395657, 231: 7.079322787629667, 232: 8.177935076297775, 233: 7.995613519503821, 234: 7.841462839676563, 235: 7.995613519503821, 236: 6.386175607069721, 237: 7.014784266492095, 238: 8.177935076297775, 239: 8.177935076297775, 240: 8.177935076297775, 241: 6.290865427265396, 242: 7.995613519503821, 243: 8.177935076297775, 244: 8.177935076297775, 245: 7.590148411395657, 246: 7.3024663389438755, 247: 4.5143734301681295, 248: 7.995613519503821, 249: 8.177935076297775, 250: 7.995613519503821, 251: 8.177935076297775, 252: 8.177935076297775, 253: 6.897001230835712, 254: 7.70793144705204, 255: 8.177935076297775, 256: 7.995613519503821, 257: 7.222423631270339, 258: 8.177935076297775, 259: 7.841462839676563, 260: 7.841462839676563, 261: 7.995613519503821, 262: 7.995613519503821, 263: 7.841462839676563, 264: 8.177935076297775, 265: 7.841462839676563, 266: 7.70793144705204, 267: 6.842934009565436, 268: 7.1483156591166175, 269: 8.177935076297775, 270: 7.1483156591166175, 271: 7.3024663389438755, 272: 7.841462839676563, 273: 8.177935076297775, 274: 8.177935076297775, 275: 7.590148411395657, 276: 5.980710498961557, 277: 7.70793144705204, 278: 6.609319158383931, 279: 7.3024663389438755, 280: 7.70793144705204, 281: 7.841462839676563, 282: 7.590148411395657, 283: 8.177935076297775, 284: 8.177935076297775, 285: 8.177935076297775, 286: 7.995613519503821, 287: 7.48478789573783, 288: 7.590148411395657, 289: 8.177935076297775, 290: 7.3024663389438755, 291: 6.529276450710395, 292: 8.177935076297775, 293: 6.455168478556672, 294: 6.609319158383931, 295: 7.222423631270339, 296: 7.70793144705204, 297: 6.791640715177885, 298: 8.177935076297775, 299: 8.177935076297775, 300: 7.995613519503821, 301: 6.491536122727547, 302: 7.995613519503821, 303: 4.657474273808803, 304: 8.177935076297775, 305: 8.177935076297775, 306: 7.995613519503821, 307: 6.791640715177885, 308: 7.389477715933506, 309: 7.48478789573783, 310: 6.568497163863675, 311: 7.1483156591166175, 312: 7.841462839676563, 313: 7.590148411395657, 314: 7.995613519503821, 315: 8.177935076297775, 316: 6.455168478556672, 317: 7.841462839676563, 318: 7.995613519503821, 319: 7.079322787629667, 320: 6.897001230835712, 321: 7.079322787629667, 322: 7.079322787629667, 323: 7.389477715933506, 324: 7.841462839676563}\n"
     ]
    }
   ],
   "source": [
    "print(idf_dict)"
   ]
  },
  {
   "cell_type": "code",
   "execution_count": 52,
   "metadata": {},
   "outputs": [
    {
     "name": "stdout",
     "output_type": "stream",
     "text": [
      "[7.30246634 6.42007716 7.99561352 7.59014841 7.59014841 8.17793508\n",
      " 7.38947772 5.46988488 7.84146284 8.17793508 7.59014841 8.17793508\n",
      " 7.84146284 6.35338578 8.17793508 7.99561352 7.84146284 7.99561352\n",
      " 7.99561352 7.59014841 7.4847879  7.99561352 7.99561352 7.30246634\n",
      " 7.30246634 8.17793508 8.17793508 7.99561352 5.83612927 6.32163709\n",
      " 5.61298572 8.17793508 6.95415964 7.38947772 6.09849353 7.70793145\n",
      " 7.99561352 7.14831566 7.99561352 7.30246634 7.99561352 6.84293401\n",
      " 5.79838894 8.17793508 8.17793508 7.99561352 6.29086543 8.17793508\n",
      " 6.65187877 7.99561352 6.45516848 7.59014841 7.30246634 7.70793145\n",
      " 7.99561352 5.93722539 7.70793145 7.99561352 5.04244086 7.99561352\n",
      " 7.99561352 7.99561352 7.99561352 7.4847879  8.17793508 8.17793508\n",
      " 8.17793508 6.38617561 7.4847879  8.17793508 7.84146284 7.99561352\n",
      " 8.17793508 7.84146284 7.22242363 7.70793145 7.22242363 8.17793508\n",
      " 7.38947772 8.17793508 8.17793508 7.99561352 7.99561352 7.38947772\n",
      " 7.84146284 7.4847879  7.99561352 8.17793508 8.17793508 7.22242363\n",
      " 8.17793508 8.17793508 8.17793508 7.22242363 8.17793508 8.17793508\n",
      " 5.70983554 8.17793508 7.4847879  7.59014841 7.84146284 7.99561352\n",
      " 8.17793508 8.17793508 7.84146284 6.42007716 7.38947772 7.70793145\n",
      " 7.99561352 7.4847879  6.95415964 6.42007716 7.84146284 8.17793508\n",
      " 7.4847879  6.04970337 8.17793508 7.84146284 5.53887775 6.26101246\n",
      " 7.70793145 7.84146284 7.84146284 7.59014841 7.84146284 7.70793145\n",
      " 6.89700123 8.17793508 7.84146284 5.7800398  8.17793508 7.84146284\n",
      " 8.17793508 7.70793145 7.84146284 7.99561352 7.59014841 7.4847879\n",
      " 6.14978683 7.14831566 7.59014841 7.84146284 7.22242363 7.84146284\n",
      " 8.17793508 7.70793145 6.26101246 8.17793508 7.22242363 7.38947772\n",
      " 8.17793508 7.4847879  8.17793508 6.95415964 7.70793145 5.28756332\n",
      " 7.99561352 7.07932279 7.07932279 7.07932279 7.70793145 7.70793145\n",
      " 7.30246634 7.38947772 7.30246634 7.38947772 7.59014841 7.4847879\n",
      " 7.99561352 7.99561352 7.99561352 7.22242363 7.70793145 7.70793145\n",
      " 8.17793508 8.17793508 7.84146284 7.07932279 7.38947772 7.84146284\n",
      " 7.84146284 7.70793145 7.70793145 5.93722539 7.4847879  7.70793145\n",
      " 7.99561352 7.70793145 7.59014841 6.38617561 7.22242363 8.17793508\n",
      " 7.38947772 6.74285055 7.99561352 7.30246634 7.70793145 7.84146284\n",
      " 7.07932279 8.17793508 7.70793145 7.70793145 7.30246634 7.4847879\n",
      " 7.14831566 7.70793145 7.84146284 7.99561352 7.70793145 5.56786528\n",
      " 6.95415964 6.89700123 5.27651348 7.70793145 7.22242363 8.17793508\n",
      " 8.17793508 7.59014841 5.31003617 7.59014841 7.4847879  7.99561352\n",
      " 7.59014841 8.17793508 8.17793508 7.07932279 8.17793508 8.17793508\n",
      " 7.38947772 7.99561352 7.59014841 7.07932279 8.17793508 7.99561352\n",
      " 7.84146284 7.99561352 6.38617561 7.01478427 8.17793508 8.17793508\n",
      " 8.17793508 6.29086543 7.99561352 8.17793508 8.17793508 7.59014841\n",
      " 7.30246634 4.51437343 7.99561352 8.17793508 7.99561352 8.17793508\n",
      " 8.17793508 6.89700123 7.70793145 8.17793508 7.99561352 7.22242363\n",
      " 8.17793508 7.84146284 7.84146284 7.99561352 7.99561352 7.84146284\n",
      " 8.17793508 7.84146284 7.70793145 6.84293401 7.14831566 8.17793508\n",
      " 7.14831566 7.30246634 7.84146284 8.17793508 8.17793508 7.59014841\n",
      " 5.9807105  7.70793145 6.60931916 7.30246634 7.70793145 7.84146284\n",
      " 7.59014841 8.17793508 8.17793508 8.17793508 7.99561352 7.4847879\n",
      " 7.59014841 8.17793508 7.30246634 6.52927645 8.17793508 6.45516848\n",
      " 6.60931916 7.22242363 7.70793145 6.79164072 8.17793508 8.17793508\n",
      " 7.99561352 6.49153612 7.99561352 4.65747427 8.17793508 8.17793508\n",
      " 7.99561352 6.79164072 7.38947772 7.4847879  6.56849716 7.14831566\n",
      " 7.84146284 7.59014841 7.99561352 8.17793508 6.45516848 7.84146284\n",
      " 7.99561352 7.07932279 6.89700123 7.07932279 7.07932279 7.38947772\n",
      " 7.84146284]\n"
     ]
    }
   ],
   "source": [
    "print(idf_vals)"
   ]
  },
  {
   "cell_type": "code",
   "execution_count": 54,
   "metadata": {},
   "outputs": [
    {
     "name": "stderr",
     "output_type": "stream",
     "text": [
      "[nltk_data] Downloading package averaged_perceptron_tagger to\n",
      "[nltk_data]     C:\\Users\\TeAmp0is0N\\AppData\\Roaming\\nltk_data...\n",
      "[nltk_data]   Unzipping taggers\\averaged_perceptron_tagger.zip.\n"
     ]
    }
   ],
   "source": [
    "nltk.download('averaged_perceptron_tagger')\n",
    "\n",
    "#Get POS tags for posts and save as a string\n",
    "post_tags = []\n",
    "for t in posts:\n",
    "    tokens = basic_tokenize(preprocess(t))\n",
    "    tags = nltk.pos_tag(tokens)\n",
    "    tag_list = [x[1] for x in tags]\n",
    "    tag_str = \" \".join(tag_list)\n",
    "    post_tags.append(tag_str)"
   ]
  },
  {
   "cell_type": "code",
   "execution_count": 55,
   "metadata": {},
   "outputs": [],
   "source": [
    "#We can use the TFIDF vectorizer to get a token matrix for the POS tags\n",
    "pos_vectorizer = TfidfVectorizer(\n",
    "    tokenizer=None,\n",
    "    lowercase=False,\n",
    "    preprocessor=None,\n",
    "    ngram_range=(1, 3),\n",
    "    use_idf=False,\n",
    "    smooth_idf=False,\n",
    "    norm=None,\n",
    "    decode_error='replace',\n",
    "    max_features=5000,\n",
    "    min_df=5,\n",
    "    max_df=0.75,\n",
    "    )"
   ]
  },
  {
   "cell_type": "code",
   "execution_count": 56,
   "metadata": {},
   "outputs": [],
   "source": [
    "#Construct POS TF matrix and get vocab dict\n",
    "pos = pos_vectorizer.fit_transform(pd.Series(post_tags)).toarray()\n",
    "pos_vocab = {v:i for i, v in enumerate(pos_vectorizer.get_feature_names())}"
   ]
  },
  {
   "cell_type": "code",
   "execution_count": 60,
   "metadata": {},
   "outputs": [],
   "source": [
    "#Now get other features\n",
    "sentiment_analyzer = VS()\n",
    "\n",
    "def count_post_objs(text_string):\n",
    "    \"\"\"\n",
    "    Accepts a text string and replaces:\n",
    "    1) urls with URLHERE\n",
    "    2) lots of whitespace with one instance\n",
    "    3) mentions with MENTIONHERE\n",
    "    4) hashtags with HASHTAGHERE\n",
    "\n",
    "    This allows us to get standardized counts of urls and mentions\n",
    "    Without caring about specific people mentioned.\n",
    "    \n",
    "    Returns counts of urls, mentions, and hashtags.\n",
    "    \"\"\"\n",
    "    space_pattern = '\\s+'\n",
    "    giant_url_regex = ('http[s]?://(?:[a-zA-Z]|[0-9]|[$-_@.&+]|'\n",
    "        '[!*\\(\\),]|(?:%[0-9a-fA-F][0-9a-fA-F]))+')\n",
    "    mention_regex = '@[\\w\\-]+'\n",
    "    hashtag_regex = '#[\\w\\-]+'\n",
    "    emoji_regex = '&#[0-9]{4,6};'\n",
    "    parsed_text = re.sub(space_pattern, ' ', text_string)\n",
    "    parsed_text = re.sub(giant_url_regex, 'URLHERE', parsed_text)\n",
    "    parsed_text = re.sub(mention_regex, 'MENTIONHERE', parsed_text)\n",
    "    parsed_text = re.sub(hashtag_regex, 'HASHTAGHERE', parsed_text)\n",
    "    parsed_text = re.sub(emoji_regex, 'EMOJIHERE', parsed_text)\n",
    "    return(parsed_text.count('URLHERE'),parsed_text.count('MENTIONHERE'),parsed_text.count('HASHTAGHERE'),parsed_text.count('EMOJIHERE'))\n",
    "\n",
    "def other_features(Post):\n",
    "    \"\"\"This function takes a string and returns a list of features.\n",
    "    These include Sentiment scores, Text and Readability scores,\n",
    "    as well as Twitter specific features\"\"\"\n",
    "    sentiment = sentiment_analyzer.polarity_scores(Post)\n",
    "    \n",
    "    words = preprocess(Post) #Get text only\n",
    "    \n",
    "    syllables = textstat.syllable_count(words)\n",
    "    num_chars = sum(len(w) for w in words)\n",
    "    num_chars_total = len(Post)\n",
    "    num_terms = len(Post.split())\n",
    "    num_words = len(words.split())\n",
    "    avg_syl = round(float((syllables+0.001))/float(num_words+0.001),4)\n",
    "    num_unique_terms = len(set(words.split()))\n",
    "    \n",
    "    ###Modified FK grade, where avg words per sentence is just num words/1\n",
    "    FKRA = round(float(0.39 * float(num_words)/1.0) + float(11.8 * avg_syl) - 15.59,1)\n",
    "    ##Modified FRE score, where sentence fixed to 1\n",
    "    FRE = round(206.835 - 1.015*(float(num_words)/1.0) - (84.6*float(avg_syl)),2)\n",
    "    \n",
    "    post_objs = count_post_objs(Post)\n",
    "    features = [FKRA, FRE,syllables, avg_syl, num_chars, num_chars_total, num_terms, num_words,\n",
    "                num_unique_terms, sentiment['neg'], sentiment['pos'], sentiment['neu'], sentiment['compound'],\n",
    "                post_objs[2], post_objs[1],\n",
    "                post_objs[0]]\n",
    "    #features = pandas.DataFrame(features)\n",
    "    return features\n",
    "\n",
    "def get_feature_array(posts):\n",
    "    feats=[]\n",
    "    for t in posts:\n",
    "        feats.append(other_features(t))\n",
    "    return np.array(feats)"
   ]
  },
  {
   "cell_type": "code",
   "execution_count": 61,
   "metadata": {},
   "outputs": [],
   "source": [
    "other_features_names = [\"FKRA\", \"FRE\",\"num_syllables\", \"avg_syl_per_word\", \"num_chars\", \"num_chars_total\", \\\n",
    "                        \"num_terms\", \"num_words\", \"num_unique_words\", \"vader neg\",\"vader pos\",\"vader neu\", \\\n",
    "                        \"vader compound\", \"num_hashtags\", \"num_mentions\", \"num_urls\"]"
   ]
  },
  {
   "cell_type": "code",
   "execution_count": 62,
   "metadata": {},
   "outputs": [
    {
     "data": {
      "text/plain": [
       "(6551, 483)"
      ]
     },
     "execution_count": 62,
     "metadata": {},
     "output_type": "execute_result"
    }
   ],
   "source": [
    "feats = get_feature_array(posts)\n",
    "#Now join them all up\n",
    "M = np.concatenate([tfidf,pos,feats],axis=1)\n",
    "M.shape"
   ]
  },
  {
   "cell_type": "code",
   "execution_count": 63,
   "metadata": {},
   "outputs": [],
   "source": [
    "#Finally get a list of variable names\n",
    "variables = ['']*len(vocab)\n",
    "for k,v in vocab.items():\n",
    "    variables[v] = k\n",
    "\n",
    "pos_variables = ['']*len(pos_vocab)\n",
    "for k,v in pos_vocab.items():\n",
    "    pos_variables[v] = k\n",
    "\n",
    "feature_names = variables+pos_variables+other_features_names"
   ]
  },
  {
   "cell_type": "code",
   "execution_count": 64,
   "metadata": {},
   "outputs": [],
   "source": [
    "X = pd.DataFrame(M)\n",
    "y = df['Labels Set'].astype(str)"
   ]
  },
  {
   "cell_type": "code",
   "execution_count": 82,
   "metadata": {},
   "outputs": [
    {
     "name": "stderr",
     "output_type": "stream",
     "text": [
      "C:\\Users\\TeAmp0is0N\\Anaconda3\\lib\\site-packages\\sklearn\\linear_model\\logistic.py:469: FutureWarning: Default multi_class will be changed to 'auto' in 0.22. Specify the multi_class option to silence this warning.\n",
      "  \"this warning.\", FutureWarning)\n"
     ]
    }
   ],
   "source": [
    "select = SelectFromModel(LogisticRegression(class_weight='balanced', C=0.01, penalty='l1', solver='liblinear', max_iter=100000))\n",
    "X_ = select.fit_transform(X,y)"
   ]
  },
  {
   "cell_type": "code",
   "execution_count": 83,
   "metadata": {},
   "outputs": [],
   "source": [
    "model = LinearSVC(class_weight='balanced', C=0.01, penalty='l2', loss='squared_hinge', multi_class='ovr', dual=False).fit(X_, y)"
   ]
  },
  {
   "cell_type": "code",
   "execution_count": 84,
   "metadata": {},
   "outputs": [
    {
     "name": "stderr",
     "output_type": "stream",
     "text": [
      "C:\\Users\\TeAmp0is0N\\Anaconda3\\lib\\site-packages\\sklearn\\linear_model\\logistic.py:432: FutureWarning: Default solver will be changed to 'lbfgs' in 0.22. Specify a solver to silence this warning.\n",
      "  FutureWarning)\n",
      "C:\\Users\\TeAmp0is0N\\Anaconda3\\lib\\site-packages\\sklearn\\linear_model\\logistic.py:469: FutureWarning: Default multi_class will be changed to 'auto' in 0.22. Specify the multi_class option to silence this warning.\n",
      "  \"this warning.\", FutureWarning)\n"
     ]
    }
   ],
   "source": [
    "model = LogisticRegression(class_weight='balanced', penalty='l2', C=0.01, max_iter=76000).fit(X_,y)"
   ]
  },
  {
   "cell_type": "code",
   "execution_count": 85,
   "metadata": {},
   "outputs": [],
   "source": [
    "y_preds = model.predict(X_)"
   ]
  },
  {
   "cell_type": "code",
   "execution_count": 86,
   "metadata": {},
   "outputs": [
    {
     "name": "stdout",
     "output_type": "stream",
     "text": [
      "                                precision    recall  f1-score   support\n",
      "\n",
      "                    defamation       0.23      0.03      0.06       348\n",
      "               defamation,fake       0.04      0.03      0.03        39\n",
      "          defamation,fake,hate       0.04      0.60      0.07        10\n",
      "defamation,fake,hate,offensive       0.03      0.50      0.06        10\n",
      "     defamation,fake,offensive       0.08      0.07      0.08        28\n",
      "               defamation,hate       0.18      0.02      0.04        84\n",
      "     defamation,hate,offensive       0.05      0.12      0.07        32\n",
      "          defamation,offensive       0.07      0.04      0.05        92\n",
      "                          fake       0.52      0.66      0.58      1151\n",
      "                     fake,hate       0.02      0.10      0.03        31\n",
      "           fake,hate,offensive       0.02      0.60      0.04         5\n",
      "                fake,offensive       0.07      0.06      0.07        32\n",
      "                          hate       0.41      0.10      0.16       547\n",
      "                hate,offensive       0.00      0.00      0.00       186\n",
      "                 miscellaneous       0.07      0.27      0.11        11\n",
      "                           nan       0.00      0.50      0.01         2\n",
      "                   non-hostile       0.92      0.88      0.90      3486\n",
      "                     offensive       0.37      0.27      0.32       457\n",
      "\n",
      "                      accuracy                           0.62      6551\n",
      "                     macro avg       0.17      0.27      0.15      6551\n",
      "                  weighted avg       0.66      0.62      0.62      6551\n",
      "\n"
     ]
    }
   ],
   "source": [
    "report = classification_report( y, y_preds )\n",
    "print(report)"
   ]
  },
  {
   "cell_type": "code",
   "execution_count": null,
   "metadata": {},
   "outputs": [],
   "source": []
  }
 ],
 "metadata": {
  "kernelspec": {
   "display_name": "Python 3",
   "language": "python",
   "name": "python3"
  },
  "language_info": {
   "codemirror_mode": {
    "name": "ipython",
    "version": 3
   },
   "file_extension": ".py",
   "mimetype": "text/x-python",
   "name": "python",
   "nbconvert_exporter": "python",
   "pygments_lexer": "ipython3",
   "version": "3.7.4"
  }
 },
 "nbformat": 4,
 "nbformat_minor": 4
}
